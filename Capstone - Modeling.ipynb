{
 "cells": [
  {
   "cell_type": "markdown",
   "id": "71a821d2",
   "metadata": {},
   "source": [
    "# 1. Importing Libraries + Bring in Data"
   ]
  },
  {
   "cell_type": "markdown",
   "id": "3a911abd",
   "metadata": {},
   "source": [
    "## 1.1 Importing Libraries"
   ]
  },
  {
   "cell_type": "code",
   "execution_count": 2,
   "id": "06d6dbb3",
   "metadata": {},
   "outputs": [],
   "source": [
    "import numpy as np\n",
    "import pandas as pd\n",
    "import matplotlib.pyplot as plt\n",
    "import seaborn as sns"
   ]
  },
  {
   "cell_type": "markdown",
   "id": "a967c135",
   "metadata": {},
   "source": [
    "## 1.2 Reading in the Data"
   ]
  },
  {
   "cell_type": "code",
   "execution_count": 3,
   "id": "1b1bf116",
   "metadata": {},
   "outputs": [],
   "source": [
    "# reading in the application train dataset\n",
    "app_train = pd.read_csv('application_train.csv',index_col='SK_ID_CURR')\n",
    "# reading in the application test dataset\n",
    "app_test = pd.read_csv('application_test.csv', index_col='SK_ID_CURR')\n",
    "# reading in the 'Bureau' dataset \n",
    "bureau = pd.read_csv('bureau.csv', index_col='SK_ID_CURR')\n",
    "# Joining Train and Bureau\n",
    "app_train_bureau = app_train.merge(bureau, on='SK_ID_CURR', how='inner')\n",
    "# Joining Test and Bureau\n",
    "app_test_bureau = app_test.merge(bureau, on='SK_ID_CURR', how='inner')"
   ]
  },
  {
   "cell_type": "markdown",
   "id": "04008539",
   "metadata": {},
   "source": [
    "## 1.3 Basic Information about the Dataframes"
   ]
  },
  {
   "cell_type": "markdown",
   "id": "4b303d5b",
   "metadata": {},
   "source": [
    "### 1.3.1 Information about the application train dataframe"
   ]
  },
  {
   "cell_type": "code",
   "execution_count": 4,
   "id": "f37358da",
   "metadata": {},
   "outputs": [
    {
     "name": "stdout",
     "output_type": "stream",
     "text": [
      "The shape is: (307511, 121)\n"
     ]
    }
   ],
   "source": [
    "# shape\n",
    "print('The shape is:',app_train.shape)"
   ]
  },
  {
   "cell_type": "code",
   "execution_count": 5,
   "id": "2a8b0332",
   "metadata": {},
   "outputs": [
    {
     "name": "stdout",
     "output_type": "stream",
     "text": [
      "<class 'pandas.core.frame.DataFrame'>\n",
      "Int64Index: 307511 entries, 100002 to 456255\n",
      "Columns: 121 entries, TARGET to AMT_REQ_CREDIT_BUREAU_YEAR\n",
      "dtypes: float64(65), int64(40), object(16)\n",
      "memory usage: 286.2+ MB\n",
      "None\n"
     ]
    }
   ],
   "source": [
    "# Information about the data types of the columns\n",
    "print(app_train.info())"
   ]
  },
  {
   "cell_type": "code",
   "execution_count": 6,
   "id": "40b00913",
   "metadata": {},
   "outputs": [
    {
     "name": "stdout",
     "output_type": "stream",
     "text": [
      "              TARGET   CNT_CHILDREN  AMT_INCOME_TOTAL    AMT_CREDIT  \\\n",
      "count  307511.000000  307511.000000      3.075110e+05  3.075110e+05   \n",
      "mean        0.080729       0.417052      1.687979e+05  5.990260e+05   \n",
      "std         0.272419       0.722121      2.371231e+05  4.024908e+05   \n",
      "min         0.000000       0.000000      2.565000e+04  4.500000e+04   \n",
      "25%         0.000000       0.000000      1.125000e+05  2.700000e+05   \n",
      "50%         0.000000       0.000000      1.471500e+05  5.135310e+05   \n",
      "75%         0.000000       1.000000      2.025000e+05  8.086500e+05   \n",
      "max         1.000000      19.000000      1.170000e+08  4.050000e+06   \n",
      "\n",
      "         AMT_ANNUITY  AMT_GOODS_PRICE  REGION_POPULATION_RELATIVE  \\\n",
      "count  307499.000000     3.072330e+05               307511.000000   \n",
      "mean    27108.573909     5.383962e+05                    0.020868   \n",
      "std     14493.737315     3.694465e+05                    0.013831   \n",
      "min      1615.500000     4.050000e+04                    0.000290   \n",
      "25%     16524.000000     2.385000e+05                    0.010006   \n",
      "50%     24903.000000     4.500000e+05                    0.018850   \n",
      "75%     34596.000000     6.795000e+05                    0.028663   \n",
      "max    258025.500000     4.050000e+06                    0.072508   \n",
      "\n",
      "          DAYS_BIRTH  DAYS_EMPLOYED  DAYS_REGISTRATION  ...  FLAG_DOCUMENT_18  \\\n",
      "count  307511.000000  307511.000000      307511.000000  ...     307511.000000   \n",
      "mean   -16036.995067   63815.045904       -4986.120328  ...          0.008130   \n",
      "std      4363.988632  141275.766519        3522.886321  ...          0.089798   \n",
      "min    -25229.000000  -17912.000000      -24672.000000  ...          0.000000   \n",
      "25%    -19682.000000   -2760.000000       -7479.500000  ...          0.000000   \n",
      "50%    -15750.000000   -1213.000000       -4504.000000  ...          0.000000   \n",
      "75%    -12413.000000    -289.000000       -2010.000000  ...          0.000000   \n",
      "max     -7489.000000  365243.000000           0.000000  ...          1.000000   \n",
      "\n",
      "       FLAG_DOCUMENT_19  FLAG_DOCUMENT_20  FLAG_DOCUMENT_21  \\\n",
      "count     307511.000000     307511.000000     307511.000000   \n",
      "mean           0.000595          0.000507          0.000335   \n",
      "std            0.024387          0.022518          0.018299   \n",
      "min            0.000000          0.000000          0.000000   \n",
      "25%            0.000000          0.000000          0.000000   \n",
      "50%            0.000000          0.000000          0.000000   \n",
      "75%            0.000000          0.000000          0.000000   \n",
      "max            1.000000          1.000000          1.000000   \n",
      "\n",
      "       AMT_REQ_CREDIT_BUREAU_HOUR  AMT_REQ_CREDIT_BUREAU_DAY  \\\n",
      "count               265992.000000              265992.000000   \n",
      "mean                     0.006402                   0.007000   \n",
      "std                      0.083849                   0.110757   \n",
      "min                      0.000000                   0.000000   \n",
      "25%                      0.000000                   0.000000   \n",
      "50%                      0.000000                   0.000000   \n",
      "75%                      0.000000                   0.000000   \n",
      "max                      4.000000                   9.000000   \n",
      "\n",
      "       AMT_REQ_CREDIT_BUREAU_WEEK  AMT_REQ_CREDIT_BUREAU_MON  \\\n",
      "count               265992.000000              265992.000000   \n",
      "mean                     0.034362                   0.267395   \n",
      "std                      0.204685                   0.916002   \n",
      "min                      0.000000                   0.000000   \n",
      "25%                      0.000000                   0.000000   \n",
      "50%                      0.000000                   0.000000   \n",
      "75%                      0.000000                   0.000000   \n",
      "max                      8.000000                  27.000000   \n",
      "\n",
      "       AMT_REQ_CREDIT_BUREAU_QRT  AMT_REQ_CREDIT_BUREAU_YEAR  \n",
      "count              265992.000000               265992.000000  \n",
      "mean                    0.265474                    1.899974  \n",
      "std                     0.794056                    1.869295  \n",
      "min                     0.000000                    0.000000  \n",
      "25%                     0.000000                    0.000000  \n",
      "50%                     0.000000                    1.000000  \n",
      "75%                     0.000000                    3.000000  \n",
      "max                   261.000000                   25.000000  \n",
      "\n",
      "[8 rows x 105 columns]\n"
     ]
    }
   ],
   "source": [
    "# Descriptive statistics of the numeric columns\n",
    "print(app_train.describe())"
   ]
  },
  {
   "cell_type": "code",
   "execution_count": 7,
   "id": "ba3547dc",
   "metadata": {},
   "outputs": [
    {
     "name": "stdout",
     "output_type": "stream",
     "text": [
      "TARGET                            0\n",
      "NAME_CONTRACT_TYPE                0\n",
      "CODE_GENDER                       0\n",
      "FLAG_OWN_CAR                      0\n",
      "FLAG_OWN_REALTY                   0\n",
      "                              ...  \n",
      "AMT_REQ_CREDIT_BUREAU_DAY     41519\n",
      "AMT_REQ_CREDIT_BUREAU_WEEK    41519\n",
      "AMT_REQ_CREDIT_BUREAU_MON     41519\n",
      "AMT_REQ_CREDIT_BUREAU_QRT     41519\n",
      "AMT_REQ_CREDIT_BUREAU_YEAR    41519\n",
      "Length: 121, dtype: int64\n"
     ]
    }
   ],
   "source": [
    "# Displaying the number of missing values in each column\n",
    "print(app_train.isnull().sum())"
   ]
  },
  {
   "cell_type": "markdown",
   "id": "e5187d0c",
   "metadata": {},
   "source": [
    "### 1.3.2 Information about the application test dataframe"
   ]
  },
  {
   "cell_type": "code",
   "execution_count": 297,
   "id": "702737e6",
   "metadata": {},
   "outputs": [
    {
     "name": "stdout",
     "output_type": "stream",
     "text": [
      "The shape is: (48744, 120)\n"
     ]
    }
   ],
   "source": [
    "# shape\n",
    "print('The shape is:',app_test.shape)"
   ]
  },
  {
   "cell_type": "code",
   "execution_count": 298,
   "id": "6801313e",
   "metadata": {},
   "outputs": [
    {
     "name": "stdout",
     "output_type": "stream",
     "text": [
      "<class 'pandas.core.frame.DataFrame'>\n",
      "Int64Index: 48744 entries, 100001 to 456250\n",
      "Columns: 120 entries, NAME_CONTRACT_TYPE to AMT_REQ_CREDIT_BUREAU_YEAR\n",
      "dtypes: float64(65), int64(39), object(16)\n",
      "memory usage: 45.0+ MB\n",
      "None\n"
     ]
    }
   ],
   "source": [
    "# Information about the data types of the columns\n",
    "print(app_test.info())"
   ]
  },
  {
   "cell_type": "code",
   "execution_count": 299,
   "id": "2ab98a53",
   "metadata": {},
   "outputs": [
    {
     "name": "stdout",
     "output_type": "stream",
     "text": [
      "       CNT_CHILDREN  AMT_INCOME_TOTAL    AMT_CREDIT    AMT_ANNUITY  \\\n",
      "count  48744.000000      4.874400e+04  4.874400e+04   48720.000000   \n",
      "mean       0.397054      1.784318e+05  5.167404e+05   29426.240209   \n",
      "std        0.709047      1.015226e+05  3.653970e+05   16016.368315   \n",
      "min        0.000000      2.694150e+04  4.500000e+04    2295.000000   \n",
      "25%        0.000000      1.125000e+05  2.606400e+05   17973.000000   \n",
      "50%        0.000000      1.575000e+05  4.500000e+05   26199.000000   \n",
      "75%        1.000000      2.250000e+05  6.750000e+05   37390.500000   \n",
      "max       20.000000      4.410000e+06  2.245500e+06  180576.000000   \n",
      "\n",
      "       AMT_GOODS_PRICE  REGION_POPULATION_RELATIVE    DAYS_BIRTH  \\\n",
      "count     4.874400e+04                48744.000000  48744.000000   \n",
      "mean      4.626188e+05                    0.021226 -16068.084605   \n",
      "std       3.367102e+05                    0.014428   4325.900393   \n",
      "min       4.500000e+04                    0.000253 -25195.000000   \n",
      "25%       2.250000e+05                    0.010006 -19637.000000   \n",
      "50%       3.960000e+05                    0.018850 -15785.000000   \n",
      "75%       6.300000e+05                    0.028663 -12496.000000   \n",
      "max       2.245500e+06                    0.072508  -7338.000000   \n",
      "\n",
      "       DAYS_EMPLOYED  DAYS_REGISTRATION  DAYS_ID_PUBLISH  ...  \\\n",
      "count   48744.000000       48744.000000     48744.000000  ...   \n",
      "mean    67485.366322       -4967.652716     -3051.712949  ...   \n",
      "std    144348.507136        3552.612035      1569.276709  ...   \n",
      "min    -17463.000000      -23722.000000     -6348.000000  ...   \n",
      "25%     -2910.000000       -7459.250000     -4448.000000  ...   \n",
      "50%     -1293.000000       -4490.000000     -3234.000000  ...   \n",
      "75%      -296.000000       -1901.000000     -1706.000000  ...   \n",
      "max    365243.000000           0.000000         0.000000  ...   \n",
      "\n",
      "       FLAG_DOCUMENT_18  FLAG_DOCUMENT_19  FLAG_DOCUMENT_20  FLAG_DOCUMENT_21  \\\n",
      "count      48744.000000           48744.0           48744.0           48744.0   \n",
      "mean           0.001559               0.0               0.0               0.0   \n",
      "std            0.039456               0.0               0.0               0.0   \n",
      "min            0.000000               0.0               0.0               0.0   \n",
      "25%            0.000000               0.0               0.0               0.0   \n",
      "50%            0.000000               0.0               0.0               0.0   \n",
      "75%            0.000000               0.0               0.0               0.0   \n",
      "max            1.000000               0.0               0.0               0.0   \n",
      "\n",
      "       AMT_REQ_CREDIT_BUREAU_HOUR  AMT_REQ_CREDIT_BUREAU_DAY  \\\n",
      "count                42695.000000               42695.000000   \n",
      "mean                     0.002108                   0.001803   \n",
      "std                      0.046373                   0.046132   \n",
      "min                      0.000000                   0.000000   \n",
      "25%                      0.000000                   0.000000   \n",
      "50%                      0.000000                   0.000000   \n",
      "75%                      0.000000                   0.000000   \n",
      "max                      2.000000                   2.000000   \n",
      "\n",
      "       AMT_REQ_CREDIT_BUREAU_WEEK  AMT_REQ_CREDIT_BUREAU_MON  \\\n",
      "count                42695.000000               42695.000000   \n",
      "mean                     0.002787                   0.009299   \n",
      "std                      0.054037                   0.110924   \n",
      "min                      0.000000                   0.000000   \n",
      "25%                      0.000000                   0.000000   \n",
      "50%                      0.000000                   0.000000   \n",
      "75%                      0.000000                   0.000000   \n",
      "max                      2.000000                   6.000000   \n",
      "\n",
      "       AMT_REQ_CREDIT_BUREAU_QRT  AMT_REQ_CREDIT_BUREAU_YEAR  \n",
      "count               42695.000000                42695.000000  \n",
      "mean                    0.546902                    1.983769  \n",
      "std                     0.693305                    1.838873  \n",
      "min                     0.000000                    0.000000  \n",
      "25%                     0.000000                    0.000000  \n",
      "50%                     0.000000                    2.000000  \n",
      "75%                     1.000000                    3.000000  \n",
      "max                     7.000000                   17.000000  \n",
      "\n",
      "[8 rows x 104 columns]\n"
     ]
    }
   ],
   "source": [
    "# Descriptive statistics of the numeric columns\n",
    "print(app_test.describe())"
   ]
  },
  {
   "cell_type": "code",
   "execution_count": 300,
   "id": "b75f0042",
   "metadata": {},
   "outputs": [
    {
     "name": "stdout",
     "output_type": "stream",
     "text": [
      "NAME_CONTRACT_TYPE               0\n",
      "CODE_GENDER                      0\n",
      "FLAG_OWN_CAR                     0\n",
      "FLAG_OWN_REALTY                  0\n",
      "CNT_CHILDREN                     0\n",
      "                              ... \n",
      "AMT_REQ_CREDIT_BUREAU_DAY     6049\n",
      "AMT_REQ_CREDIT_BUREAU_WEEK    6049\n",
      "AMT_REQ_CREDIT_BUREAU_MON     6049\n",
      "AMT_REQ_CREDIT_BUREAU_QRT     6049\n",
      "AMT_REQ_CREDIT_BUREAU_YEAR    6049\n",
      "Length: 120, dtype: int64\n"
     ]
    }
   ],
   "source": [
    "# Displaying the number of missing values in each column\n",
    "print(app_test.isnull().sum())"
   ]
  },
  {
   "cell_type": "markdown",
   "id": "037b200f",
   "metadata": {},
   "source": [
    "### 1.3.3 Information about the bureau dataframe"
   ]
  },
  {
   "cell_type": "code",
   "execution_count": 301,
   "id": "3e186960",
   "metadata": {},
   "outputs": [
    {
     "name": "stdout",
     "output_type": "stream",
     "text": [
      "(1716428, 16)\n"
     ]
    }
   ],
   "source": [
    "# Shape\n",
    "print(bureau.shape)"
   ]
  },
  {
   "cell_type": "code",
   "execution_count": 302,
   "id": "59d8c15d",
   "metadata": {},
   "outputs": [
    {
     "name": "stdout",
     "output_type": "stream",
     "text": [
      "<class 'pandas.core.frame.DataFrame'>\n",
      "Int64Index: 1716428 entries, 215354 to 246829\n",
      "Data columns (total 16 columns):\n",
      " #   Column                  Dtype  \n",
      "---  ------                  -----  \n",
      " 0   SK_ID_BUREAU            int64  \n",
      " 1   CREDIT_ACTIVE           object \n",
      " 2   CREDIT_CURRENCY         object \n",
      " 3   DAYS_CREDIT             int64  \n",
      " 4   CREDIT_DAY_OVERDUE      int64  \n",
      " 5   DAYS_CREDIT_ENDDATE     float64\n",
      " 6   DAYS_ENDDATE_FACT       float64\n",
      " 7   AMT_CREDIT_MAX_OVERDUE  float64\n",
      " 8   CNT_CREDIT_PROLONG      int64  \n",
      " 9   AMT_CREDIT_SUM          float64\n",
      " 10  AMT_CREDIT_SUM_DEBT     float64\n",
      " 11  AMT_CREDIT_SUM_LIMIT    float64\n",
      " 12  AMT_CREDIT_SUM_OVERDUE  float64\n",
      " 13  CREDIT_TYPE             object \n",
      " 14  DAYS_CREDIT_UPDATE      int64  \n",
      " 15  AMT_ANNUITY             float64\n",
      "dtypes: float64(8), int64(5), object(3)\n",
      "memory usage: 222.6+ MB\n",
      "None\n"
     ]
    }
   ],
   "source": [
    "# Information about the data types of the columns\n",
    "print(bureau.info())"
   ]
  },
  {
   "cell_type": "code",
   "execution_count": 303,
   "id": "b8cc66e9",
   "metadata": {},
   "outputs": [
    {
     "name": "stdout",
     "output_type": "stream",
     "text": [
      "       SK_ID_BUREAU   DAYS_CREDIT  CREDIT_DAY_OVERDUE  DAYS_CREDIT_ENDDATE  \\\n",
      "count  1.716428e+06  1.716428e+06        1.716428e+06         1.610875e+06   \n",
      "mean   5.924434e+06 -1.142108e+03        8.181666e-01         5.105174e+02   \n",
      "std    5.322657e+05  7.951649e+02        3.654443e+01         4.994220e+03   \n",
      "min    5.000000e+06 -2.922000e+03        0.000000e+00        -4.206000e+04   \n",
      "25%    5.463954e+06 -1.666000e+03        0.000000e+00        -1.138000e+03   \n",
      "50%    5.926304e+06 -9.870000e+02        0.000000e+00        -3.300000e+02   \n",
      "75%    6.385681e+06 -4.740000e+02        0.000000e+00         4.740000e+02   \n",
      "max    6.843457e+06  0.000000e+00        2.792000e+03         3.119900e+04   \n",
      "\n",
      "       DAYS_ENDDATE_FACT  AMT_CREDIT_MAX_OVERDUE  CNT_CREDIT_PROLONG  \\\n",
      "count       1.082775e+06            5.919400e+05        1.716428e+06   \n",
      "mean       -1.017437e+03            3.825418e+03        6.410406e-03   \n",
      "std         7.140106e+02            2.060316e+05        9.622391e-02   \n",
      "min        -4.202300e+04            0.000000e+00        0.000000e+00   \n",
      "25%        -1.489000e+03            0.000000e+00        0.000000e+00   \n",
      "50%        -8.970000e+02            0.000000e+00        0.000000e+00   \n",
      "75%        -4.250000e+02            0.000000e+00        0.000000e+00   \n",
      "max         0.000000e+00            1.159872e+08        9.000000e+00   \n",
      "\n",
      "       AMT_CREDIT_SUM  AMT_CREDIT_SUM_DEBT  AMT_CREDIT_SUM_LIMIT  \\\n",
      "count    1.716415e+06         1.458759e+06          1.124648e+06   \n",
      "mean     3.549946e+05         1.370851e+05          6.229515e+03   \n",
      "std      1.149811e+06         6.774011e+05          4.503203e+04   \n",
      "min      0.000000e+00        -4.705600e+06         -5.864061e+05   \n",
      "25%      5.130000e+04         0.000000e+00          0.000000e+00   \n",
      "50%      1.255185e+05         0.000000e+00          0.000000e+00   \n",
      "75%      3.150000e+05         4.015350e+04          0.000000e+00   \n",
      "max      5.850000e+08         1.701000e+08          4.705600e+06   \n",
      "\n",
      "       AMT_CREDIT_SUM_OVERDUE  DAYS_CREDIT_UPDATE   AMT_ANNUITY  \n",
      "count            1.716428e+06        1.716428e+06  4.896370e+05  \n",
      "mean             3.791276e+01       -5.937483e+02  1.571276e+04  \n",
      "std              5.937650e+03        7.207473e+02  3.258269e+05  \n",
      "min              0.000000e+00       -4.194700e+04  0.000000e+00  \n",
      "25%              0.000000e+00       -9.080000e+02  0.000000e+00  \n",
      "50%              0.000000e+00       -3.950000e+02  0.000000e+00  \n",
      "75%              0.000000e+00       -3.300000e+01  1.350000e+04  \n",
      "max              3.756681e+06        3.720000e+02  1.184534e+08  \n"
     ]
    }
   ],
   "source": [
    "# Descriptive statistics of the numeric columns\n",
    "print(bureau.describe())"
   ]
  },
  {
   "cell_type": "code",
   "execution_count": 304,
   "id": "5e8e1491",
   "metadata": {},
   "outputs": [
    {
     "name": "stdout",
     "output_type": "stream",
     "text": [
      "SK_ID_BUREAU                    0\n",
      "CREDIT_ACTIVE                   0\n",
      "CREDIT_CURRENCY                 0\n",
      "DAYS_CREDIT                     0\n",
      "CREDIT_DAY_OVERDUE              0\n",
      "DAYS_CREDIT_ENDDATE        105553\n",
      "DAYS_ENDDATE_FACT          633653\n",
      "AMT_CREDIT_MAX_OVERDUE    1124488\n",
      "CNT_CREDIT_PROLONG              0\n",
      "AMT_CREDIT_SUM                 13\n",
      "AMT_CREDIT_SUM_DEBT        257669\n",
      "AMT_CREDIT_SUM_LIMIT       591780\n",
      "AMT_CREDIT_SUM_OVERDUE          0\n",
      "CREDIT_TYPE                     0\n",
      "DAYS_CREDIT_UPDATE              0\n",
      "AMT_ANNUITY               1226791\n",
      "dtype: int64\n"
     ]
    }
   ],
   "source": [
    "# Displaying the number of missing values in each column\n",
    "print(bureau.isnull().sum())"
   ]
  },
  {
   "cell_type": "markdown",
   "id": "9ba1671d",
   "metadata": {},
   "source": [
    "### 1.3.4 Information about the app_train_bureau dataframe"
   ]
  },
  {
   "cell_type": "code",
   "execution_count": 305,
   "id": "71ab36c6",
   "metadata": {},
   "outputs": [
    {
     "name": "stdout",
     "output_type": "stream",
     "text": [
      "(1465325, 137)\n"
     ]
    }
   ],
   "source": [
    "# Shape\n",
    "print(app_train_bureau.shape)"
   ]
  },
  {
   "cell_type": "markdown",
   "id": "bd08f0fc",
   "metadata": {},
   "source": [
    "### 1.3.5 Information about the app_test_bureau dataframe"
   ]
  },
  {
   "cell_type": "code",
   "execution_count": 306,
   "id": "500a97ba",
   "metadata": {},
   "outputs": [
    {
     "name": "stdout",
     "output_type": "stream",
     "text": [
      "(251103, 136)\n"
     ]
    }
   ],
   "source": [
    "# Shape\n",
    "print(app_test_bureau.shape)"
   ]
  },
  {
   "cell_type": "markdown",
   "id": "11eaf333",
   "metadata": {},
   "source": [
    "In general, each dataframe has a lot of null values and needs cleaning"
   ]
  },
  {
   "cell_type": "markdown",
   "id": "36141ac6",
   "metadata": {},
   "source": [
    "# 2. Data Cleaning: Handling Missing Values and Outliers"
   ]
  },
  {
   "cell_type": "markdown",
   "id": "e779fd32",
   "metadata": {},
   "source": [
    "## 2.1 Cleaning the application train dataframe"
   ]
  },
  {
   "cell_type": "code",
   "execution_count": 8,
   "id": "9c8d36fe",
   "metadata": {},
   "outputs": [
    {
     "name": "stdout",
     "output_type": "stream",
     "text": [
      "+----------+----------------+\n",
      "| Outliers | Missing Values |\n",
      "+----------+----------------+\n",
      "|  24825   |       0        |\n",
      "|   N/A    |       0        |\n",
      "|   N/A    |       0        |\n",
      "|   N/A    |       0        |\n",
      "|   N/A    |       0        |\n",
      "|   4272   |       0        |\n",
      "|   454    |       0        |\n",
      "|   3255   |       0        |\n",
      "|   2959   |       12       |\n",
      "|   4173   |      278       |\n",
      "|   N/A    |      1292      |\n",
      "|   N/A    |       0        |\n",
      "|   N/A    |       0        |\n",
      "|   N/A    |       0        |\n",
      "|   N/A    |       0        |\n",
      "|   8412   |       0        |\n",
      "|    0     |       0        |\n",
      "|    0     |       0        |\n",
      "|   749    |       0        |\n",
      "|    0     |       0        |\n",
      "|   3369   |     202929     |\n",
      "|    1     |       0        |\n",
      "|    0     |       0        |\n",
      "|    0     |       0        |\n",
      "|   574    |       0        |\n",
      "|    0     |       0        |\n",
      "|  17442   |       0        |\n",
      "|   N/A    |     96391      |\n",
      "|   4007   |       2        |\n",
      "|    0     |       0        |\n",
      "|    0     |       0        |\n",
      "|   N/A    |       0        |\n",
      "|   622    |       0        |\n",
      "|   4657   |       0        |\n",
      "|  15612   |       0        |\n",
      "|  12503   |       0        |\n",
      "|  24039   |       0        |\n",
      "|    0     |       0        |\n",
      "|    0     |       0        |\n",
      "|   N/A    |       0        |\n",
      "|    0     |     173378     |\n",
      "|    0     |      660       |\n",
      "|    0     |     60965      |\n",
      "|   2982   |     156061     |\n",
      "|   1973   |     179943     |\n",
      "|   694    |     150007     |\n",
      "|   1193   |     204488     |\n",
      "|   1705   |     214865     |\n",
      "|   2440   |     163891     |\n",
      "|   2214   |     154828     |\n",
      "|   2611   |     153020     |\n",
      "|   591    |     208642     |\n",
      "|   2089   |     182590     |\n",
      "|   1746   |     210199     |\n",
      "|   3191   |     154350     |\n",
      "|   722    |     213514     |\n",
      "|   2412   |     169682     |\n",
      "|   3010   |     156061     |\n",
      "|   2063   |     179943     |\n",
      "|   680    |     150007     |\n",
      "|   1208   |     204488     |\n",
      "|   1693   |     214865     |\n",
      "|   3355   |     163891     |\n",
      "|   2628   |     154828     |\n",
      "|   2638   |     153020     |\n",
      "|   480    |     208642     |\n",
      "|   2140   |     182590     |\n",
      "|   1807   |     210199     |\n",
      "|   3344   |     154350     |\n",
      "|   678    |     213514     |\n",
      "|   2462   |     169682     |\n",
      "|   3035   |     156061     |\n",
      "|   1991   |     179943     |\n",
      "|   652    |     150007     |\n",
      "|   1206   |     204488     |\n",
      "|   1723   |     214865     |\n",
      "|   2429   |     163891     |\n",
      "|   2226   |     154828     |\n",
      "|   2734   |     153020     |\n",
      "|   553    |     208642     |\n",
      "|   2133   |     182590     |\n",
      "|   1769   |     210199     |\n",
      "|   3225   |     154350     |\n",
      "|   720    |     213514     |\n",
      "|   2432   |     169682     |\n",
      "|   N/A    |     210295     |\n",
      "|   N/A    |     154297     |\n",
      "|   3323   |     148431     |\n",
      "|   N/A    |     156341     |\n",
      "|   N/A    |     145755     |\n",
      "|   6161   |      1021      |\n",
      "|   6838   |      1021      |\n",
      "|   5985   |      1021      |\n",
      "|   3928   |      1021      |\n",
      "|   640    |       1        |\n",
      "|    13    |       0        |\n",
      "|    0     |       0        |\n",
      "|    25    |       0        |\n",
      "|   4648   |       0        |\n",
      "|  27078   |       0        |\n",
      "|    59    |       0        |\n",
      "|  25024   |       0        |\n",
      "|   1198   |       0        |\n",
      "|    7     |       0        |\n",
      "|   1203   |       0        |\n",
      "|    2     |       0        |\n",
      "|   1084   |       0        |\n",
      "|   903    |       0        |\n",
      "|   372    |       0        |\n",
      "|   3053   |       0        |\n",
      "|    82    |       0        |\n",
      "|   2500   |       0        |\n",
      "|   183    |       0        |\n",
      "|   156    |       0        |\n",
      "|   103    |       0        |\n",
      "|   1626   |     41519      |\n",
      "|   1489   |     41519      |\n",
      "|   8536   |     41519      |\n",
      "|   3235   |     41519      |\n",
      "|   2301   |     41519      |\n",
      "|   3364   |     41519      |\n",
      "+----------+----------------+\n"
     ]
    }
   ],
   "source": [
    "#!pip install prettytable\n",
    "from prettytable import PrettyTable\n",
    "\n",
    "# Creating a table to see each columns total outliers and missing values\n",
    "app_train_outlier = PrettyTable(['Outliers', \"Missing Values\"])\n",
    "\n",
    "for col in app_train.columns:\n",
    "        \n",
    "    missing_values = app_train[col].isnull().sum()\n",
    "    \n",
    "    # Check for outliers \n",
    "    if app_train[col].dtype in ['int64', 'float64']:\n",
    "        mean = app_train[col].mean()\n",
    "        std = app_train[col].std()\n",
    "        outliers = ((app_train[col] - mean).abs() > 3 * std).sum()\n",
    "    else:\n",
    "        outliers = 'N/A'\n",
    "    \n",
    "    # Add the row to the table\n",
    "    app_train_outlier.add_row([outliers, missing_values])\n",
    "\n",
    "# Print the table\n",
    "print(app_train_outlier)"
   ]
  },
  {
   "cell_type": "code",
   "execution_count": 9,
   "id": "e7bf81e1",
   "metadata": {},
   "outputs": [
    {
     "name": "stdout",
     "output_type": "stream",
     "text": [
      "                      Column  % of Nulls in Column\n",
      "41           COMMONAREA_MEDI             69.872297\n",
      "13            COMMONAREA_AVG             69.872297\n",
      "27           COMMONAREA_MODE             69.872297\n",
      "49  NONLIVINGAPARTMENTS_MEDI             69.432963\n",
      "35  NONLIVINGAPARTMENTS_MODE             69.432963\n",
      "..                       ...                   ...\n",
      "7               EXT_SOURCE_2              0.214626\n",
      "1            AMT_GOODS_PRICE              0.090403\n",
      "0                AMT_ANNUITY              0.003902\n",
      "5            CNT_FAM_MEMBERS              0.000650\n",
      "60    DAYS_LAST_PHONE_CHANGE              0.000325\n",
      "\n",
      "[67 rows x 2 columns]\n",
      "The new shape is: (307511, 71)\n"
     ]
    }
   ],
   "source": [
    "## Dropping columns with over 30% of their values being null\n",
    "\n",
    "# Create a copy\n",
    "app_train_org = app_train.copy()\n",
    "\n",
    "# Getting the percentage of nulls in each column\n",
    "columns = app_train.isnull().sum()[app_train.isnull().sum() != 0].keys()\n",
    "nulls_per = app_train.isnull().sum()[app_train.isnull().sum() != 0].values/app_train.shape[0]\n",
    "\n",
    "# create a dataframe with only columns with nulls. \n",
    "app_train_nulls = pd.DataFrame({'Column':columns,'% of Nulls in Column':nulls_per*100})\n",
    "app_train_nulls = app_train_nulls.sort_values(by='% of Nulls in Column', ascending=False)\n",
    "\n",
    "print(app_train_nulls)\n",
    "\n",
    "# extract these columns from app_train_nulls\n",
    "drop_cols = app_train_nulls[app_train_nulls['% of Nulls in Column']>30]['Column'].tolist()\n",
    "keep_cols = [col for col in app_train.columns if col not in drop_cols]\n",
    "\n",
    "# extract the new train dataframe\n",
    "app_train_cleaned = app_train[keep_cols]\n",
    "\n",
    "# Shape of new dataframe\n",
    "print('The new shape is:', app_train_cleaned.shape)"
   ]
  },
  {
   "cell_type": "markdown",
   "id": "1d9a26dc",
   "metadata": {},
   "source": [
    "Doing this removed 50 columns"
   ]
  },
  {
   "cell_type": "code",
   "execution_count": 10,
   "id": "74ff96c6",
   "metadata": {},
   "outputs": [
    {
     "name": "stdout",
     "output_type": "stream",
     "text": [
      "The new shape is: (307506, 71)\n"
     ]
    }
   ],
   "source": [
    "# From doing EDA, we know there was 4 rows with 'XNA' in the Code_Gender Column. Lets remove those rows\n",
    "app_train_cleaned = app_train_cleaned[app_train_cleaned['CODE_GENDER']!='XNA']\n",
    "\n",
    "# We also know there is a value in the AMT_INCOME_TOTAL column that must be a value entered wrong. Lets remove that\n",
    "app_train_cleaned = app_train_cleaned[app_train_cleaned['AMT_INCOME_TOTAL'] != 117000000.0]\n",
    "print('The new shape is:', app_train_cleaned.shape)"
   ]
  },
  {
   "cell_type": "markdown",
   "id": "1adfc576",
   "metadata": {},
   "source": [
    "Doing this removed 5 rows"
   ]
  },
  {
   "cell_type": "code",
   "execution_count": 11,
   "id": "1c1029f6",
   "metadata": {},
   "outputs": [],
   "source": [
    "## Replacing the remaining null values in the dataframe\n",
    "\n",
    "# Create a copy of the DataFrame\n",
    "app_train_cleaned_copy = app_train_cleaned.copy()\n",
    "\n",
    "# In categorical columns, replacing nulls with the most frequent value of that column\n",
    "for cat in app_train_cleaned_copy.describe(include='object').columns:\n",
    "    mode_value = app_train_cleaned_copy[cat].mode().values[0]\n",
    "    app_train_cleaned_copy.loc[:, cat].fillna(mode_value, inplace=True)\n",
    "\n",
    "# In numerical columns, replacing nulls with the median value of that column\n",
    "for num in app_train_cleaned_copy.describe().columns:\n",
    "    median_value = app_train_cleaned_copy[num].median()\n",
    "    app_train_cleaned_copy.loc[:, num].fillna(median_value, inplace=True)\n",
    "    \n",
    "app_train_cleaned = app_train_cleaned_copy"
   ]
  },
  {
   "cell_type": "code",
   "execution_count": 12,
   "id": "64d61b91",
   "metadata": {},
   "outputs": [
    {
     "name": "stdout",
     "output_type": "stream",
     "text": [
      "TARGET                        0\n",
      "NAME_CONTRACT_TYPE            0\n",
      "CODE_GENDER                   0\n",
      "FLAG_OWN_CAR                  0\n",
      "FLAG_OWN_REALTY               0\n",
      "                             ..\n",
      "AMT_REQ_CREDIT_BUREAU_DAY     0\n",
      "AMT_REQ_CREDIT_BUREAU_WEEK    0\n",
      "AMT_REQ_CREDIT_BUREAU_MON     0\n",
      "AMT_REQ_CREDIT_BUREAU_QRT     0\n",
      "AMT_REQ_CREDIT_BUREAU_YEAR    0\n",
      "Length: 71, dtype: int64\n"
     ]
    }
   ],
   "source": [
    "## Verifying that there are now no more null values in the dataframe\n",
    "print(app_train_cleaned.isnull().sum())"
   ]
  },
  {
   "cell_type": "markdown",
   "id": "664b1326",
   "metadata": {},
   "source": [
    "There are now no more nulls in the dataframe"
   ]
  },
  {
   "cell_type": "code",
   "execution_count": 13,
   "id": "3fcabe5d",
   "metadata": {},
   "outputs": [
    {
     "name": "stdout",
     "output_type": "stream",
     "text": [
      "The new shape is: (307506, 71)\n"
     ]
    }
   ],
   "source": [
    "## Using Winsorization to handle outliers\n",
    "\n",
    "from scipy.stats.mstats import winsorize\n",
    "numeric_columns = app_train_cleaned.select_dtypes(include=[np.number]).drop(columns=['TARGET'])\n",
    "\n",
    "for column in numeric_columns.columns:\n",
    "    app_train_cleaned[column] = winsorize(app_train_cleaned[column], limits=[0.05, 0.05])\n",
    "    \n",
    "print('The new shape is:', app_train_cleaned.shape)"
   ]
  },
  {
   "cell_type": "code",
   "execution_count": 180,
   "id": "ddf2749a",
   "metadata": {},
   "outputs": [
    {
     "name": "stdout",
     "output_type": "stream",
     "text": [
      "        SK_ID_CURR  CNT_CHILDREN  AMT_INCOME_TOTAL  AMT_CREDIT  AMT_ANNUITY  \\\n",
      "0         1.733420      0.577537          0.142129    0.478094     0.166143   \n",
      "1         1.733410      0.577537          0.426791    1.725447     0.592682   \n",
      "2         1.733400      0.577537          0.427195    1.152886     1.404667   \n",
      "3         1.733381      0.577537          0.142533    0.711429     0.177874   \n",
      "4         1.733371      0.577537          0.199466    0.213734     0.361749   \n",
      "...            ...           ...               ...         ...          ...   \n",
      "307506    1.732369      0.577537          0.047646    0.855488     0.031015   \n",
      "307507    1.732378      0.577537          0.408218    0.818593     1.042331   \n",
      "307508    1.732388      0.577537          0.066623    0.195378     0.198056   \n",
      "307509    1.732398      0.577537          0.009287    0.568756     0.476317   \n",
      "307510    1.732408      0.577537          0.047646    0.188760     1.518548   \n",
      "\n",
      "        AMT_GOODS_PRICE  REGION_POPULATION_RELATIVE  DAYS_BIRTH  \\\n",
      "0              0.507235                    0.149452    1.506877   \n",
      "1              1.600870                    1.252748    0.166821   \n",
      "2              1.092143                    0.783450    0.689508   \n",
      "3              0.653462                    0.928989    0.680113   \n",
      "4              0.068554                    0.563570    0.892533   \n",
      "...                 ...                         ...         ...   \n",
      "307506         0.848431                    0.845394    1.537583   \n",
      "307507         0.848431                    0.310592    1.085705   \n",
      "307508         0.126415                    1.147118    0.245417   \n",
      "307509         0.592534                    1.124633    0.934007   \n",
      "307510         0.370127                    1.832939    0.187673   \n",
      "\n",
      "        DAYS_EMPLOYED  DAYS_REGISTRATION  ...  FLAG_DOCUMENT_18  \\\n",
      "0            0.456214           0.379836  ...          0.090534   \n",
      "1            0.460115           1.078695  ...          0.090534   \n",
      "2            0.453298           0.206115  ...          0.090534   \n",
      "3            0.473217           1.375826  ...          0.090534   \n",
      "4            0.473210           0.191638  ...          0.090534   \n",
      "...               ...                ...  ...               ...   \n",
      "307506       0.453376           0.984954  ...          0.090534   \n",
      "307507       2.133614           0.169781  ...          0.090534   \n",
      "307508       0.507773           0.497001  ...          0.090534   \n",
      "307509       0.485583           0.688106  ...          0.090534   \n",
      "307510       0.460638           0.040274  ...          0.090534   \n",
      "\n",
      "        FLAG_DOCUMENT_19  FLAG_DOCUMENT_20  FLAG_DOCUMENT_21  \\\n",
      "0               0.024402          0.022529          0.018305   \n",
      "1               0.024402          0.022529          0.018305   \n",
      "2               0.024402          0.022529          0.018305   \n",
      "3               0.024402          0.022529          0.018305   \n",
      "4               0.024402          0.022529          0.018305   \n",
      "...                  ...               ...               ...   \n",
      "307506          0.024402          0.022529          0.018305   \n",
      "307507          0.024402          0.022529          0.018305   \n",
      "307508          0.024402          0.022529          0.018305   \n",
      "307509          0.024402          0.022529          0.018305   \n",
      "307510          0.024402          0.022529          0.018305   \n",
      "\n",
      "        AMT_REQ_CREDIT_BUREAU_HOUR  AMT_REQ_CREDIT_BUREAU_DAY  \\\n",
      "0                         0.070987                   0.058766   \n",
      "1                         0.070987                   0.058766   \n",
      "2                         0.070987                   0.058766   \n",
      "3                         0.070987                   0.058766   \n",
      "4                         0.070987                   0.058766   \n",
      "...                            ...                        ...   \n",
      "307506                    0.070987                   0.058766   \n",
      "307507                    0.070987                   0.058766   \n",
      "307508                   12.747203                   0.058766   \n",
      "307509                    0.070987                   0.058766   \n",
      "307510                    0.070987                   0.058766   \n",
      "\n",
      "        AMT_REQ_CREDIT_BUREAU_WEEK  AMT_REQ_CREDIT_BUREAU_MON  \\\n",
      "0                         0.155837                   0.269946   \n",
      "1                         0.155837                   0.269946   \n",
      "2                         0.155837                   0.269946   \n",
      "3                         0.155837                   0.269946   \n",
      "4                         0.155837                   0.269946   \n",
      "...                            ...                        ...   \n",
      "307506                    0.155837                   0.269946   \n",
      "307507                    0.155837                   0.269946   \n",
      "307508                    0.155837                   0.897174   \n",
      "307509                    0.155837                   0.269946   \n",
      "307510                    0.155837                   2.064293   \n",
      "\n",
      "        AMT_REQ_CREDIT_BUREAU_QRT  AMT_REQ_CREDIT_BUREAU_YEAR  \n",
      "0                        0.308619                    0.440925  \n",
      "1                        0.308619                    1.007329  \n",
      "2                        0.308619                    1.007329  \n",
      "3                        0.308619                    0.440925  \n",
      "4                        0.308619                    1.007329  \n",
      "...                           ...                         ...  \n",
      "307506                   0.308619                    0.440925  \n",
      "307507                   0.308619                    0.440925  \n",
      "307508                   0.308619                    0.440925  \n",
      "307509                   0.308619                    1.007329  \n",
      "307510                   0.308619                    0.440925  \n",
      "\n",
      "[307511 rows x 60 columns]\n",
      "The new shape is: (169275, 72)\n"
     ]
    }
   ],
   "source": [
    "## Did not end up doing this\n",
    "\n",
    "## Using the z-score method to remove outliers\n",
    "\n",
    "# Getting numeric columns (excluding the target column)\n",
    "#numeric_columns = app_train_cleaned.select_dtypes(include=[np.number]).drop(columns=['TARGET'])\n",
    "\n",
    "# Calculate Z-scores for each value\n",
    "#z_scores = np.abs((numeric_columns - numeric_columns.mean()) / numeric_columns.std())  \n",
    "#print(z_scores)\n",
    "\n",
    "# Keep rows where all Z-scores are less than 3\n",
    "#app_train_cleaned = app_train_cleaned[(z_scores < 3).all(axis=1)]\n",
    "\n",
    "#print('The new shape is:', app_train_cleaned.shape)"
   ]
  },
  {
   "cell_type": "code",
   "execution_count": null,
   "id": "00ed19f4",
   "metadata": {},
   "outputs": [],
   "source": [
    "Now, the dataframe has taken care of outliers, and is fully cleaned"
   ]
  },
  {
   "cell_type": "markdown",
   "id": "7c02a04c",
   "metadata": {},
   "source": [
    "## 2.2 Cleaning the application test dataframe"
   ]
  },
  {
   "cell_type": "code",
   "execution_count": 315,
   "id": "60afe361",
   "metadata": {},
   "outputs": [
    {
     "name": "stdout",
     "output_type": "stream",
     "text": [
      "+----------+----------------+\n",
      "| Outliers | Missing Values |\n",
      "+----------+----------------+\n",
      "|   N/A    |       0        |\n",
      "|   N/A    |       0        |\n",
      "|   N/A    |       0        |\n",
      "|   N/A    |       0        |\n",
      "|   606    |       0        |\n",
      "|   571    |       0        |\n",
      "|   1129   |       0        |\n",
      "|   505    |       24       |\n",
      "|   1119   |       0        |\n",
      "|   N/A    |      911       |\n",
      "|   N/A    |       0        |\n",
      "|   N/A    |       0        |\n",
      "|   N/A    |       0        |\n",
      "|   N/A    |       0        |\n",
      "|   1565   |       0        |\n",
      "|    0     |       0        |\n",
      "|    0     |       0        |\n",
      "|   124    |       0        |\n",
      "|    0     |       0        |\n",
      "|   465    |     32312      |\n",
      "|    1     |       0        |\n",
      "|    0     |       0        |\n",
      "|    0     |       0        |\n",
      "|    78    |       0        |\n",
      "|    0     |       0        |\n",
      "|    0     |       0        |\n",
      "|   N/A    |     15605      |\n",
      "|   576    |       0        |\n",
      "|    0     |       0        |\n",
      "|    1     |       0        |\n",
      "|   N/A    |       0        |\n",
      "|    98    |       0        |\n",
      "|   918    |       0        |\n",
      "|   2689   |       0        |\n",
      "|   2049   |       0        |\n",
      "|   3776   |       0        |\n",
      "|    0     |       0        |\n",
      "|    0     |       0        |\n",
      "|   N/A    |       0        |\n",
      "|    0     |     20532      |\n",
      "|    0     |       8        |\n",
      "|    0     |      8668      |\n",
      "|   477    |     23887      |\n",
      "|   348    |     27641      |\n",
      "|    77    |     22856      |\n",
      "|   193    |     31818      |\n",
      "|   260    |     33495      |\n",
      "|   463    |     25189      |\n",
      "|   374    |     23579      |\n",
      "|   230    |     23321      |\n",
      "|   112    |     32466      |\n",
      "|   343    |     28254      |\n",
      "|   287    |     32780      |\n",
      "|   533    |     23552      |\n",
      "|   114    |     33347      |\n",
      "|   383    |     26084      |\n",
      "|   482    |     23887      |\n",
      "|   367    |     27641      |\n",
      "|    76    |     22856      |\n",
      "|   198    |     31818      |\n",
      "|   266    |     33495      |\n",
      "|   435    |     25189      |\n",
      "|   372    |     23579      |\n",
      "|   195    |     23321      |\n",
      "|    97    |     32466      |\n",
      "|   357    |     28254      |\n",
      "|   318    |     32780      |\n",
      "|   564    |     23552      |\n",
      "|   109    |     33347      |\n",
      "|   392    |     26084      |\n",
      "|   480    |     23887      |\n",
      "|   355    |     27641      |\n",
      "|    75    |     22856      |\n",
      "|   195    |     31818      |\n",
      "|   259    |     33495      |\n",
      "|   457    |     25189      |\n",
      "|   375    |     23579      |\n",
      "|   220    |     23321      |\n",
      "|   107    |     32466      |\n",
      "|   350    |     28254      |\n",
      "|   292    |     32780      |\n",
      "|   538    |     23552      |\n",
      "|   115    |     33347      |\n",
      "|   384    |     26084      |\n",
      "|   N/A    |     32797      |\n",
      "|   N/A    |     23619      |\n",
      "|   565    |     22624      |\n",
      "|   N/A    |     23893      |\n",
      "|   N/A    |     22209      |\n",
      "|   216    |       29       |\n",
      "|   1077   |       29       |\n",
      "|   213    |       29       |\n",
      "|   617    |       29       |\n",
      "|    70    |       0        |\n",
      "|    0     |       0        |\n",
      "|    0     |       0        |\n",
      "|    5     |       0        |\n",
      "|   719    |       0        |\n",
      "|   4264   |       0        |\n",
      "|    2     |       0        |\n",
      "|   4312   |       0        |\n",
      "|   219    |       0        |\n",
      "|    0     |       0        |\n",
      "|    57    |       0        |\n",
      "|    0     |       0        |\n",
      "|    0     |       0        |\n",
      "|    0     |       0        |\n",
      "|    0     |       0        |\n",
      "|    0     |       0        |\n",
      "|    0     |       0        |\n",
      "|    76    |       0        |\n",
      "|    0     |       0        |\n",
      "|    0     |       0        |\n",
      "|    0     |       0        |\n",
      "|    89    |      6049      |\n",
      "|    70    |      6049      |\n",
      "|   116    |      6049      |\n",
      "|   354    |      6049      |\n",
      "|   565    |      6049      |\n",
      "|   461    |      6049      |\n",
      "+----------+----------------+\n"
     ]
    }
   ],
   "source": [
    "#!pip install prettytable\n",
    "from prettytable import PrettyTable\n",
    "\n",
    "# Creating a table to see each columns total outliers and missing values\n",
    "app_test_outlier = PrettyTable(['Outliers', \"Missing Values\"])\n",
    "\n",
    "for col in app_test.columns:\n",
    "        \n",
    "    missing_values = app_test[col].isnull().sum()\n",
    "    \n",
    "    # Check for outliers \n",
    "    if app_test[col].dtype in ['int64', 'float64']:\n",
    "        mean = app_test[col].mean()\n",
    "        std = app_test[col].std()\n",
    "        outliers = ((app_test[col] - mean).abs() > 3 * std).sum()\n",
    "    else:\n",
    "        outliers = 'N/A'\n",
    "    \n",
    "    # Add the row to the table\n",
    "    app_test_outlier.add_row([outliers, missing_values])\n",
    "\n",
    "# Print the table\n",
    "print(app_test_outlier)"
   ]
  },
  {
   "cell_type": "code",
   "execution_count": 316,
   "id": "0318b010",
   "metadata": {},
   "outputs": [
    {
     "name": "stdout",
     "output_type": "stream",
     "text": [
      "                      Column  % of Nulls in Column\n",
      "25           COMMONAREA_MODE             68.716150\n",
      "39           COMMONAREA_MEDI             68.716150\n",
      "11            COMMONAREA_AVG             68.716150\n",
      "47  NONLIVINGAPARTMENTS_MEDI             68.412523\n",
      "19   NONLIVINGAPARTMENTS_AVG             68.412523\n",
      "..                       ...                   ...\n",
      "56  OBS_60_CNT_SOCIAL_CIRCLE              0.059495\n",
      "55  DEF_30_CNT_SOCIAL_CIRCLE              0.059495\n",
      "54  OBS_30_CNT_SOCIAL_CIRCLE              0.059495\n",
      "0                AMT_ANNUITY              0.049237\n",
      "5               EXT_SOURCE_2              0.016412\n",
      "\n",
      "[64 rows x 2 columns]\n",
      "The new shape is:  (48744, 70)\n"
     ]
    }
   ],
   "source": [
    "## Dropping columns with over 30% of their values being null\n",
    "\n",
    "# Create a copy\n",
    "app_test_org = app_test.copy()\n",
    "\n",
    "# Getting the percentage of nulls in each column\n",
    "columns = app_test.isnull().sum()[app_test.isnull().sum() != 0].keys()\n",
    "nulls_per = app_test.isnull().sum()[app_test.isnull().sum() != 0].values/app_test.shape[0]\n",
    "\n",
    "# create a dataframe with only columns with nulls. \n",
    "app_test_nulls = pd.DataFrame({'Column':columns,'% of Nulls in Column':nulls_per*100})\n",
    "app_test_nulls = app_test_nulls.sort_values(by='% of Nulls in Column', ascending=False)\n",
    "\n",
    "print(app_test_nulls)\n",
    "\n",
    "# extract these columns from app_test_nulls\n",
    "drop_cols = app_test_nulls[app_test_nulls['% of Nulls in Column']>30]['Column'].tolist()\n",
    "keep_cols = [col for col in app_test.columns if col not in drop_cols]\n",
    "\n",
    "# extract the new test dataframe\n",
    "app_test_cleaned = app_test[keep_cols]\n",
    "\n",
    "# Shape of new dataframe\n",
    "print('The new shape is: ', app_test_cleaned.shape)"
   ]
  },
  {
   "cell_type": "markdown",
   "id": "87430200",
   "metadata": {},
   "source": [
    "Doing this removed 50 columns"
   ]
  },
  {
   "cell_type": "code",
   "execution_count": 318,
   "id": "61495f57",
   "metadata": {},
   "outputs": [],
   "source": [
    "## Replacing the remaining null values in the dataframe\n",
    "\n",
    "# Create a copy of the DataFrame\n",
    "app_test_cleaned_copy = app_test_cleaned.copy()\n",
    "\n",
    "# In categorical columns, replacing nulls with the most frequent value of that column\n",
    "for cate in app_test_cleaned_copy.describe(include='object').columns:\n",
    "    mode_value = app_test_cleaned_copy[cate].mode().values[0]\n",
    "    app_test_cleaned_copy.loc[:, cate].fillna(mode_value, inplace=True)\n",
    "\n",
    "# In numerical columns, replacing nulls with the median value of that column\n",
    "for nume in app_test_cleaned_copy.describe().columns:\n",
    "    median_value = app_test_cleaned_copy[nume].median()\n",
    "    app_test_cleaned_copy.loc[:, nume].fillna(median_value, inplace=True)\n",
    "    \n",
    "app_test_cleaned = app_test_cleaned_copy"
   ]
  },
  {
   "cell_type": "code",
   "execution_count": 319,
   "id": "57661824",
   "metadata": {},
   "outputs": [
    {
     "name": "stdout",
     "output_type": "stream",
     "text": [
      "NAME_CONTRACT_TYPE            0\n",
      "CODE_GENDER                   0\n",
      "FLAG_OWN_CAR                  0\n",
      "FLAG_OWN_REALTY               0\n",
      "CNT_CHILDREN                  0\n",
      "                             ..\n",
      "AMT_REQ_CREDIT_BUREAU_DAY     0\n",
      "AMT_REQ_CREDIT_BUREAU_WEEK    0\n",
      "AMT_REQ_CREDIT_BUREAU_MON     0\n",
      "AMT_REQ_CREDIT_BUREAU_QRT     0\n",
      "AMT_REQ_CREDIT_BUREAU_YEAR    0\n",
      "Length: 70, dtype: int64\n"
     ]
    }
   ],
   "source": [
    "## Verifying that there are now no more null values in the dataframe\n",
    "print(app_test_cleaned.isnull().sum())"
   ]
  },
  {
   "cell_type": "markdown",
   "id": "2d99f813",
   "metadata": {},
   "source": [
    "There are now no more nulls in the dataframe"
   ]
  },
  {
   "cell_type": "markdown",
   "id": "5ac4b337",
   "metadata": {},
   "source": [
    "The dataframe is fully cleaned."
   ]
  },
  {
   "cell_type": "markdown",
   "id": "74010c42",
   "metadata": {},
   "source": [
    "## 2.3 Cleaning the Bureau Dataframe"
   ]
  },
  {
   "cell_type": "code",
   "execution_count": 320,
   "id": "05b0d4f2",
   "metadata": {},
   "outputs": [
    {
     "name": "stdout",
     "output_type": "stream",
     "text": [
      "+----------+----------------+\n",
      "| Outliers | Missing Values |\n",
      "+----------+----------------+\n",
      "|    0     |       0        |\n",
      "|   N/A    |       0        |\n",
      "|   N/A    |       0        |\n",
      "|    0     |       0        |\n",
      "|   1194   |       0        |\n",
      "|  38630   |     105553     |\n",
      "|    1     |     633653     |\n",
      "|   199    |    1124488     |\n",
      "|   9114   |       0        |\n",
      "|  16756   |       13       |\n",
      "|  15543   |     257669     |\n",
      "|  15704   |     591780     |\n",
      "|   445    |       0        |\n",
      "|   N/A    |       0        |\n",
      "|   1409   |       0        |\n",
      "|   460    |    1226791     |\n",
      "+----------+----------------+\n"
     ]
    }
   ],
   "source": [
    "#!pip install prettytable\n",
    "from prettytable import PrettyTable\n",
    "\n",
    "# Creating a table to see each columns total outliers and missing values\n",
    "bureau_outlier = PrettyTable(['Outliers', \"Missing Values\"])\n",
    "\n",
    "for col in bureau.columns:\n",
    "        \n",
    "    missing_values = bureau[col].isnull().sum()\n",
    "    \n",
    "    # Check for outliers \n",
    "    if bureau[col].dtype in ['int64', 'float64']:\n",
    "        mean = bureau[col].mean()\n",
    "        std = bureau[col].std()\n",
    "        outliers = ((bureau[col] - mean).abs() > 3 * std).sum()\n",
    "    else:\n",
    "        outliers = 'N/A'\n",
    "    \n",
    "    # Add the row to the table\n",
    "    bureau_outlier.add_row([outliers, missing_values])\n",
    "\n",
    "# Print the table\n",
    "print(bureau_outlier)"
   ]
  },
  {
   "cell_type": "code",
   "execution_count": 321,
   "id": "d35737fd",
   "metadata": {},
   "outputs": [
    {
     "name": "stdout",
     "output_type": "stream",
     "text": [
      "                   Column  % of Nulls in Column\n",
      "6             AMT_ANNUITY             71.473490\n",
      "2  AMT_CREDIT_MAX_OVERDUE             65.513264\n",
      "1       DAYS_ENDDATE_FACT             36.916958\n",
      "5    AMT_CREDIT_SUM_LIMIT             34.477415\n",
      "4     AMT_CREDIT_SUM_DEBT             15.011932\n",
      "0     DAYS_CREDIT_ENDDATE              6.149573\n",
      "3          AMT_CREDIT_SUM              0.000757\n",
      "The new shape is:  (1716428, 12)\n"
     ]
    }
   ],
   "source": [
    "## Dropping columns with over 30% of their values being null\n",
    "\n",
    "# Create a copy\n",
    "bureau_org = bureau.copy()\n",
    "\n",
    "# Getting the percentage of nulls in each column\n",
    "columns = bureau.isnull().sum()[bureau.isnull().sum() != 0].keys()\n",
    "nulls_per = bureau.isnull().sum()[bureau.isnull().sum() != 0].values/bureau.shape[0]\n",
    "\n",
    "# create a dataframe with only columns with nulls. \n",
    "bureau_nulls = pd.DataFrame({'Column':columns,'% of Nulls in Column':nulls_per*100})\n",
    "bureau_nulls = bureau_nulls.sort_values(by='% of Nulls in Column', ascending=False)\n",
    "\n",
    "print(bureau_nulls)\n",
    "\n",
    "# extract these columns from app_test_nulls\n",
    "drop_cols = bureau_nulls[bureau_nulls['% of Nulls in Column']>30]['Column'].tolist()\n",
    "keep_cols = [col for col in bureau.columns if col not in drop_cols]\n",
    "\n",
    "# extract the new test dataframe\n",
    "bureau_cleaned = bureau[keep_cols]\n",
    "\n",
    "# Shape of new dataframe\n",
    "print('The new shape is: ', bureau_cleaned.shape)"
   ]
  },
  {
   "cell_type": "markdown",
   "id": "43cf1b5e",
   "metadata": {},
   "source": [
    "Doing this removed 4 columns"
   ]
  },
  {
   "cell_type": "code",
   "execution_count": 323,
   "id": "5731fb95",
   "metadata": {},
   "outputs": [],
   "source": [
    "## Replacing the remaining null values in the dataframe\n",
    "\n",
    "# Create a copy of the DataFrame\n",
    "bureau_cleaned_copy = bureau_cleaned.copy()\n",
    "\n",
    "# In categorical columns, replacing nulls with the most frequent value of that column\n",
    "for cate in bureau_cleaned_copy.describe(include='object').columns:\n",
    "    mode_value = bureau_cleaned_copy[cate].mode().values[0]\n",
    "    bureau_cleaned_copy.loc[:, cate].fillna(mode_value, inplace=True)\n",
    "\n",
    "# In numerical columns, replacing nulls with the median value of that column\n",
    "for nume in bureau_cleaned_copy.describe().columns:\n",
    "    median_value = bureau_cleaned_copy[nume].median()\n",
    "    bureau_cleaned_copy.loc[:, nume].fillna(median_value, inplace=True)\n",
    "    \n",
    "bureau_cleaned = bureau_cleaned_copy"
   ]
  },
  {
   "cell_type": "code",
   "execution_count": 324,
   "id": "47ceb851",
   "metadata": {},
   "outputs": [
    {
     "name": "stdout",
     "output_type": "stream",
     "text": [
      "SK_ID_BUREAU              0\n",
      "CREDIT_ACTIVE             0\n",
      "CREDIT_CURRENCY           0\n",
      "DAYS_CREDIT               0\n",
      "CREDIT_DAY_OVERDUE        0\n",
      "DAYS_CREDIT_ENDDATE       0\n",
      "CNT_CREDIT_PROLONG        0\n",
      "AMT_CREDIT_SUM            0\n",
      "AMT_CREDIT_SUM_DEBT       0\n",
      "AMT_CREDIT_SUM_OVERDUE    0\n",
      "CREDIT_TYPE               0\n",
      "DAYS_CREDIT_UPDATE        0\n",
      "dtype: int64\n"
     ]
    }
   ],
   "source": [
    "## Verifying that there are now no more null values in the dataframe\n",
    "print(bureau_cleaned.isnull().sum())"
   ]
  },
  {
   "cell_type": "markdown",
   "id": "3330e48b",
   "metadata": {},
   "source": [
    "There are now no more nulls. "
   ]
  },
  {
   "cell_type": "code",
   "execution_count": 325,
   "id": "e992390d",
   "metadata": {},
   "outputs": [
    {
     "name": "stdout",
     "output_type": "stream",
     "text": [
      "The new shape is: (1716428, 12)\n"
     ]
    }
   ],
   "source": [
    "## Using Winsorization to handle outliers\n",
    "\n",
    "from scipy.stats.mstats import winsorize\n",
    "numeric_columns = bureau_cleaned.select_dtypes(include=[np.number])\n",
    "\n",
    "for column in numeric_columns.columns:\n",
    "    bureau_cleaned[column] = winsorize(bureau_cleaned[column], limits=[0.05, 0.05])\n",
    "    \n",
    "print('The new shape is:', bureau_cleaned.shape)"
   ]
  },
  {
   "cell_type": "code",
   "execution_count": 154,
   "id": "98797058",
   "metadata": {},
   "outputs": [
    {
     "name": "stdout",
     "output_type": "stream",
     "text": [
      "         SK_ID_CURR  SK_ID_BUREAU  DAYS_CREDIT  CREDIT_DAY_OVERDUE  \\\n",
      "0          0.610665      0.394488     0.811288            0.022388   \n",
      "1          0.610665      0.394486     1.174735            0.022388   \n",
      "2          0.610665      0.394484     1.181023            0.022388   \n",
      "3          0.610665      0.394482     1.181023            0.022388   \n",
      "4          0.610665      0.394481     0.645285            0.022388   \n",
      "...             ...           ...          ...                 ...   \n",
      "1716423    0.183215      1.628293     1.380981            0.022388   \n",
      "1716424    1.730847      1.628285     1.893811            0.022388   \n",
      "1716425    1.730847      1.628270     0.838684            0.022388   \n",
      "1716426    0.304900      1.628255     0.925459            0.022388   \n",
      "1716427    0.304900      1.628240     0.854046            0.022388   \n",
      "\n",
      "         DAYS_CREDIT_ENDDATE  CNT_CREDIT_PROLONG  AMT_CREDIT_SUM  \\\n",
      "0                   0.126347             0.06662        0.229317   \n",
      "1                   0.127244             0.06662        0.113056   \n",
      "2                   0.014284             0.06662        0.095086   \n",
      "3                   0.162899             0.06662        0.230467   \n",
      "4                   0.152438             0.06662        2.039479   \n",
      "...                      ...                 ...             ...   \n",
      "1716423             0.100947             0.06662        0.298957   \n",
      "1716424             0.597185             0.06662        0.275578   \n",
      "1716425             0.430946             0.06662        0.295200   \n",
      "1716426             0.407198             0.06662        0.277432   \n",
      "1716427             0.162899             0.06662        0.289173   \n",
      "\n",
      "         AMT_CREDIT_SUM_DEBT  AMT_CREDIT_SUM_OVERDUE  DAYS_CREDIT_UPDATE  \n",
      "0                   0.185991                0.006385            0.642040  \n",
      "1                   0.087541                0.006385            0.796046  \n",
      "2                   0.185991                0.006385            0.801596  \n",
      "3                   0.185991                0.006385            0.801596  \n",
      "4                   0.185991                0.006385            0.794659  \n",
      "...                      ...                     ...                 ...  \n",
      "1716423             0.168032                0.006385            0.797434  \n",
      "1716424             0.185991                0.006385            2.635114  \n",
      "1716425             0.185991                0.006385            0.517868  \n",
      "1716426             0.185991                0.006385            1.268477  \n",
      "1716427             0.185991                0.006385            0.286853  \n",
      "\n",
      "[1716428 rows x 10 columns]\n",
      "The new shape is: (1642748, 13)\n"
     ]
    }
   ],
   "source": [
    "# Did not end up doing this\n",
    "\n",
    "## Using the z-score method to remove outliers\n",
    "\n",
    "# Getting numeric columns\n",
    "#numeric_columns3 = bureau_cleaned.select_dtypes(include=[np.number])\n",
    "\n",
    "# Calculate Z-scores for each value\n",
    "#z_scores3 = np.abs((numeric_columns3 - numeric_columns3.mean()) / numeric_columns3.std())  \n",
    "#print(z_scores3)\n",
    "\n",
    "# Keep rows where all Z-scores are less than 3\n",
    "#bureau_cleaned = bureau_cleaned[(z_scores3 < 3 ).all(axis=1)]\n",
    "\n",
    "#print('The new shape is:', bureau_cleaned.shape)"
   ]
  },
  {
   "cell_type": "markdown",
   "id": "ba853344",
   "metadata": {},
   "source": [
    "Now, the outliers have been taken care of, and the dataframe is fully cleaned."
   ]
  },
  {
   "cell_type": "markdown",
   "id": "fd3b9e68",
   "metadata": {},
   "source": [
    "## 2.4 Joining the Clean Train and Clean Bureau Dataframe"
   ]
  },
  {
   "cell_type": "code",
   "execution_count": 335,
   "id": "48d608bb",
   "metadata": {},
   "outputs": [
    {
     "name": "stdout",
     "output_type": "stream",
     "text": [
      "(1465287, 83)\n"
     ]
    }
   ],
   "source": [
    "# Joining\n",
    "app_train_bureau_clean = app_train_cleaned.merge(bureau_cleaned, on='SK_ID_CURR', how='inner')\n",
    "\n",
    "# New Shape\n",
    "print(app_train_bureau_clean.shape)"
   ]
  },
  {
   "cell_type": "markdown",
   "id": "412679d2",
   "metadata": {},
   "source": [
    "The original joined dataframe had 1465325 rows and 138 columns. \n",
    "This cleaned dataframe has 38 less rows and 55 less columns."
   ]
  },
  {
   "cell_type": "markdown",
   "id": "bd877b40",
   "metadata": {},
   "source": [
    "## 2.5 Joining the Clean Test and Clean Bureau Dataframe"
   ]
  },
  {
   "cell_type": "code",
   "execution_count": 336,
   "id": "08e4dd32",
   "metadata": {},
   "outputs": [
    {
     "name": "stdout",
     "output_type": "stream",
     "text": [
      "(251103, 82)\n"
     ]
    }
   ],
   "source": [
    "# Joining\n",
    "app_test_bureau_clean = app_test_cleaned.merge(bureau_cleaned, on='SK_ID_CURR', how='inner')\n",
    "\n",
    "# New Shape\n",
    "print(app_test_bureau_clean.shape)"
   ]
  },
  {
   "cell_type": "markdown",
   "id": "39613058",
   "metadata": {},
   "source": [
    "The original joined dataframe had 251103 rows and 137 columns. \n",
    "This cleaned dataframe has 0 less rows and 55 less columns."
   ]
  },
  {
   "cell_type": "markdown",
   "id": "065916bd",
   "metadata": {},
   "source": [
    "# 3. Identifying the Performance Benchmark Established by the Majority Class Classifier "
   ]
  },
  {
   "cell_type": "code",
   "execution_count": 337,
   "id": "a3b866d3",
   "metadata": {},
   "outputs": [
    {
     "name": "stdout",
     "output_type": "stream",
     "text": [
      "Performance Benchmark (Majority Class Classifier) for Original Dataframe: 91.93%\n"
     ]
    }
   ],
   "source": [
    "## Doing this for the app_train dataframe\n",
    "\n",
    "# Calculate the proportion of the majority class\n",
    "majority_class_proportion = app_train['TARGET'].value_counts(normalize=True)[0]\n",
    "\n",
    "# Calculate the performance benchmark as the proportion of the majority class\n",
    "performance_benchmark = majority_class_proportion\n",
    "\n",
    "print(\"Performance Benchmark (Majority Class Classifier) for Original Dataframe: {:.2%}\".format(performance_benchmark))"
   ]
  },
  {
   "cell_type": "code",
   "execution_count": 338,
   "id": "766c1c07",
   "metadata": {},
   "outputs": [
    {
     "name": "stdout",
     "output_type": "stream",
     "text": [
      "Performance Benchmark (Majority Class Classifier) for the Cleaned Dataframe: 91.93%\n"
     ]
    }
   ],
   "source": [
    "## Doing this for the app_train_cleaned dataframe\n",
    "\n",
    "# Calculate the proportion of the majority class\n",
    "majority_class_proportion = app_train_cleaned['TARGET'].value_counts(normalize=True)[0]\n",
    "\n",
    "# Calculate the performance benchmark as the proportion of the majority class\n",
    "performance_benchmark = majority_class_proportion\n",
    "\n",
    "print(\"Performance Benchmark (Majority Class Classifier) for the Cleaned Dataframe: {:.2%}\".format(performance_benchmark))"
   ]
  },
  {
   "cell_type": "code",
   "execution_count": 339,
   "id": "9df841c0",
   "metadata": {},
   "outputs": [
    {
     "name": "stdout",
     "output_type": "stream",
     "text": [
      "Performance Benchmark (Majority Class Classifier) for Original Joined Dataframe: 92.18%\n"
     ]
    }
   ],
   "source": [
    "## Doing this for the app_train_bureau dataframe\n",
    "\n",
    "# Calculate the proportion of the majority class\n",
    "majority_class_proportion = app_train_bureau['TARGET'].value_counts(normalize=True)[0]\n",
    "\n",
    "# Calculate the performance benchmark as the proportion of the majority class\n",
    "performance_benchmark = majority_class_proportion\n",
    "\n",
    "print(\"Performance Benchmark (Majority Class Classifier) for Original Joined Dataframe: {:.2%}\".format(performance_benchmark))"
   ]
  },
  {
   "cell_type": "code",
   "execution_count": 340,
   "id": "38f17a27",
   "metadata": {},
   "outputs": [
    {
     "name": "stdout",
     "output_type": "stream",
     "text": [
      "Performance Benchmark (Majority Class Classifier) for Cleaned Joined Dataframe: 92.18%\n"
     ]
    }
   ],
   "source": [
    "## Doing this for the app_train_bureau dataframe\n",
    "\n",
    "# Calculate the proportion of the majority class\n",
    "majority_class_proportion = app_train_bureau_clean['TARGET'].value_counts(normalize=True)[0]\n",
    "\n",
    "# Calculate the performance benchmark as the proportion of the majority class\n",
    "performance_benchmark = majority_class_proportion\n",
    "\n",
    "print(\"Performance Benchmark (Majority Class Classifier) for Cleaned Joined Dataframe: {:.2%}\".format(performance_benchmark))"
   ]
  },
  {
   "cell_type": "markdown",
   "id": "17fb0334",
   "metadata": {},
   "source": [
    "# 4. KNN Model"
   ]
  },
  {
   "cell_type": "markdown",
   "id": "994139e2",
   "metadata": {},
   "source": [
    "## 4.1 KNN Model (with K = 5) on Cleaned App_train Dataframe"
   ]
  },
  {
   "cell_type": "code",
   "execution_count": 341,
   "id": "42b97e0e",
   "metadata": {},
   "outputs": [],
   "source": [
    "from sklearn.model_selection import train_test_split\n",
    "\n",
    "# Performing one-hot encoding on categorical columns\n",
    "categorical_columns = app_train_cleaned.select_dtypes(include=['object']).columns\n",
    "app_train_cleaned_encoded = pd.get_dummies(app_train_cleaned, columns=categorical_columns)\n",
    "\n",
    "# Separating features and target variable\n",
    "X = app_train_cleaned_encoded.drop('TARGET', axis=1)\n",
    "y = app_train_cleaned_encoded['TARGET']\n",
    "\n",
    "# Splitting the data into training and validation sets\n",
    "X_train, X_val, y_train, y_val = train_test_split(X, y, test_size=0.3, random_state=42)"
   ]
  },
  {
   "cell_type": "code",
   "execution_count": 342,
   "id": "75fc5f18",
   "metadata": {},
   "outputs": [],
   "source": [
    "# Random Sample version\n",
    "from sklearn.model_selection import train_test_split\n",
    "\n",
    "# Sub-sampling random 150,000 rows from the dataframe\n",
    "train_sample = app_train_cleaned.sample(n=150000, random_state=42)\n",
    "\n",
    "# Performing one-hot encoding on categorical columns\n",
    "categorical_columns = train_sample.select_dtypes(include=['object']).columns\n",
    "app_train_cleaned_encoded = pd.get_dummies(train_sample, columns=categorical_columns)\n",
    "\n",
    "# Separating features and target variable\n",
    "X = app_train_cleaned_encoded.drop('TARGET', axis=1)\n",
    "y = app_train_cleaned_encoded['TARGET']\n",
    "\n",
    "# Splitting the data into training and validation sets\n",
    "X_train, X_val, y_train, y_val = train_test_split(X, y, test_size=0.3, random_state=42)\n"
   ]
  },
  {
   "cell_type": "code",
   "execution_count": 343,
   "id": "a9abd980",
   "metadata": {},
   "outputs": [
    {
     "name": "stderr",
     "output_type": "stream",
     "text": [
      "C:\\Users\\jital\\anaconda3\\lib\\site-packages\\sklearn\\neighbors\\_classification.py:228: FutureWarning: Unlike other reduction functions (e.g. `skew`, `kurtosis`), the default behavior of `mode` typically preserves the axis it acts along. In SciPy 1.11.0, this behavior will change: the default value of `keepdims` will become False, the `axis` over which the statistic is taken will be eliminated, and the value None will no longer be accepted. Set `keepdims` to True or False to avoid this warning.\n",
      "  mode, _ = stats.mode(_y[neigh_ind, k], axis=1)\n",
      "C:\\Users\\jital\\anaconda3\\lib\\site-packages\\sklearn\\neighbors\\_classification.py:228: FutureWarning: Unlike other reduction functions (e.g. `skew`, `kurtosis`), the default behavior of `mode` typically preserves the axis it acts along. In SciPy 1.11.0, this behavior will change: the default value of `keepdims` will become False, the `axis` over which the statistic is taken will be eliminated, and the value None will no longer be accepted. Set `keepdims` to True or False to avoid this warning.\n",
      "  mode, _ = stats.mode(_y[neigh_ind, k], axis=1)\n"
     ]
    },
    {
     "name": "stdout",
     "output_type": "stream",
     "text": [
      "Accuracy of Training Model: 0.921647619047619\n",
      "Accuracy of Validation Model: 0.9128444444444445\n",
      "\n",
      "Training & Validation Confusion Metrices:\n",
      "Training   confusion matrix:\n",
      " [[96226   324]\n",
      " [ 7903   547]]\n",
      "Validation confusion matrix:\n",
      " [[41021   332]\n",
      " [ 3590    57]]\n"
     ]
    }
   ],
   "source": [
    "from sklearn.preprocessing import StandardScaler\n",
    "from sklearn.neighbors import KNeighborsClassifier\n",
    "from sklearn.metrics import confusion_matrix\n",
    "\n",
    "\n",
    "# Scaling\n",
    "#scaler = StandardScaler()\n",
    "#X_train_scaled = scaler.fit_transform(X_train)\n",
    "#X_val_scaled = scaler.transform(X_val)\n",
    "\n",
    "# Creating KNN with 5 Neighbors\n",
    "knn = KNeighborsClassifier(n_neighbors=5)\n",
    "\n",
    "# Training the model\n",
    "knn.fit(X_train, y_train)\n",
    "\n",
    "# Making predictions\n",
    "y_pred_val = knn.predict(X_val)\n",
    "y_pred_train = knn.predict(X_train)\n",
    "\n",
    "# Calculating accuracy and confusion matrix\n",
    "knn_accuracy_train = accuracy_score(y_train, y_pred_train)\n",
    "knn_accuracy_val = accuracy_score(y_val, y_pred_val)\n",
    "print(\"Accuracy of Training Model:\", knn_accuracy_train)\n",
    "print(\"Accuracy of Validation Model:\", knn_accuracy_val)\n",
    "print('')\n",
    "print('Training & Validation Confusion Metrices:')\n",
    "print('Training   confusion matrix:\\n', confusion_matrix(y_train, y_pred_train))\n",
    "print('Validation confusion matrix:\\n', confusion_matrix(y_val, y_pred_val))"
   ]
  },
  {
   "cell_type": "markdown",
   "id": "76271bec",
   "metadata": {},
   "source": [
    "## 4.2 KNN Model (with K = 3) on Cleaned App_train Dataframe"
   ]
  },
  {
   "cell_type": "code",
   "execution_count": 344,
   "id": "59d8aafd",
   "metadata": {},
   "outputs": [
    {
     "name": "stderr",
     "output_type": "stream",
     "text": [
      "C:\\Users\\jital\\anaconda3\\lib\\site-packages\\sklearn\\neighbors\\_classification.py:228: FutureWarning: Unlike other reduction functions (e.g. `skew`, `kurtosis`), the default behavior of `mode` typically preserves the axis it acts along. In SciPy 1.11.0, this behavior will change: the default value of `keepdims` will become False, the `axis` over which the statistic is taken will be eliminated, and the value None will no longer be accepted. Set `keepdims` to True or False to avoid this warning.\n",
      "  mode, _ = stats.mode(_y[neigh_ind, k], axis=1)\n",
      "C:\\Users\\jital\\anaconda3\\lib\\site-packages\\sklearn\\neighbors\\_classification.py:228: FutureWarning: Unlike other reduction functions (e.g. `skew`, `kurtosis`), the default behavior of `mode` typically preserves the axis it acts along. In SciPy 1.11.0, this behavior will change: the default value of `keepdims` will become False, the `axis` over which the statistic is taken will be eliminated, and the value None will no longer be accepted. Set `keepdims` to True or False to avoid this warning.\n",
      "  mode, _ = stats.mode(_y[neigh_ind, k], axis=1)\n"
     ]
    },
    {
     "name": "stdout",
     "output_type": "stream",
     "text": [
      "Accuracy of Training Model: 0.9286\n",
      "Accuracy of Validation Model: 0.9014666666666666\n",
      "\n",
      "Training & Validation Confusion Metrices:\n",
      "Training   confusion matrix:\n",
      " [[95786   764]\n",
      " [ 6733  1717]]\n",
      "Validation confusion matrix:\n",
      " [[40433   920]\n",
      " [ 3514   133]]\n"
     ]
    }
   ],
   "source": [
    "from sklearn.metrics import confusion_matrix\n",
    "\n",
    "# Creating KNN with 3 Neighbors\n",
    "knn = KNeighborsClassifier(n_neighbors=3)\n",
    "\n",
    "# Training the model\n",
    "knn.fit(X_train, y_train)\n",
    "\n",
    "# Making predictions\n",
    "y_pred_val = knn.predict(X_val)\n",
    "y_pred_train = knn.predict(X_train)\n",
    "\n",
    "# Calculating accuracy and confusion matrix\n",
    "knn2_accuracy_train = accuracy_score(y_train, y_pred_train)\n",
    "knn2_accuracy_val = accuracy_score(y_val, y_pred_val)\n",
    "print(\"Accuracy of Training Model:\", knn2_accuracy_train)\n",
    "print(\"Accuracy of Validation Model:\", knn2_accuracy_val)\n",
    "print('')\n",
    "print('Training & Validation Confusion Metrices:')\n",
    "print('Training   confusion matrix:\\n', confusion_matrix(y_train, y_pred_train))\n",
    "print('Validation confusion matrix:\\n', confusion_matrix(y_val, y_pred_val))"
   ]
  },
  {
   "cell_type": "markdown",
   "id": "0a519d2b",
   "metadata": {},
   "source": [
    "Both of these models were too accurate, lets try balancing the target variable in the dataframe."
   ]
  },
  {
   "cell_type": "markdown",
   "id": "a625a6ce",
   "metadata": {},
   "source": [
    "## 4.3 KNN Model (with K = 3) on  App_train Dataframe with Sampling"
   ]
  },
  {
   "cell_type": "code",
   "execution_count": 353,
   "id": "322aa190",
   "metadata": {},
   "outputs": [
    {
     "name": "stderr",
     "output_type": "stream",
     "text": [
      "C:\\Users\\jital\\anaconda3\\lib\\site-packages\\sklearn\\neighbors\\_classification.py:228: FutureWarning: Unlike other reduction functions (e.g. `skew`, `kurtosis`), the default behavior of `mode` typically preserves the axis it acts along. In SciPy 1.11.0, this behavior will change: the default value of `keepdims` will become False, the `axis` over which the statistic is taken will be eliminated, and the value None will no longer be accepted. Set `keepdims` to True or False to avoid this warning.\n",
      "  mode, _ = stats.mode(_y[neigh_ind, k], axis=1)\n",
      "C:\\Users\\jital\\anaconda3\\lib\\site-packages\\sklearn\\neighbors\\_classification.py:228: FutureWarning: Unlike other reduction functions (e.g. `skew`, `kurtosis`), the default behavior of `mode` typically preserves the axis it acts along. In SciPy 1.11.0, this behavior will change: the default value of `keepdims` will become False, the `axis` over which the statistic is taken will be eliminated, and the value None will no longer be accepted. Set `keepdims` to True or False to avoid this warning.\n",
      "  mode, _ = stats.mode(_y[neigh_ind, k], axis=1)\n"
     ]
    },
    {
     "name": "stdout",
     "output_type": "stream",
     "text": [
      "Accuracy of Training Model: 0.8819426997149714\n",
      "Accuracy of Validation Model: 0.6650695919871656\n",
      "\n",
      "Training & Validation Confusion Matrices:\n",
      "Training   confusion matrix:\n",
      " [[54619 11339]\n",
      " [ 2288 47181]]\n",
      "Validation confusion matrix:\n",
      " [[58359 26445]\n",
      " [ 4453  2995]]\n"
     ]
    }
   ],
   "source": [
    "from sklearn.model_selection import train_test_split\n",
    "\n",
    "# Performing one-hot encoding on categorical columns\n",
    "categorical_columns = app_train_cleaned.select_dtypes(include=['object']).columns\n",
    "app_train_cleaned_encoded = pd.get_dummies(app_train_cleaned, columns=categorical_columns)\n",
    "\n",
    "# Separating features and target variable\n",
    "X = app_train_cleaned_encoded.drop('TARGET', axis=1)\n",
    "y = app_train_cleaned_encoded['TARGET']\n",
    "\n",
    "# Splitting the data into training and validation sets\n",
    "X_train, X_val, y_train, y_val = train_test_split(X, y, test_size=0.3, random_state=42)\n",
    "\n",
    "from imblearn.over_sampling import SMOTE\n",
    "from imblearn.under_sampling import RandomUnderSampler\n",
    "\n",
    "# Applying oversampling and undersampling\n",
    "oversampler = SMOTE(sampling_strategy=0.25)  \n",
    "undersampler = RandomUnderSampler(sampling_strategy=0.75)  \n",
    "\n",
    "X_train_oversampled, y_train_oversampled = oversampler.fit_resample(X_train, y_train)\n",
    "X_train_resampled, y_train_resampled = undersampler.fit_resample(X_train_oversampled, y_train_oversampled)\n",
    "\n",
    "# Creating KNN with 3 Neighbors\n",
    "knn_best = KNeighborsClassifier(n_neighbors=3)\n",
    "\n",
    "# Training the model\n",
    "knn_best.fit(X_train_resampled, y_train_resampled)\n",
    "\n",
    "# Making predictions\n",
    "y_pred_val = knn_best.predict(X_val)\n",
    "y_pred_train = knn_best.predict(X_train_resampled)\n",
    "\n",
    "# Calculating accuracy and confusion matrix\n",
    "knn_accuracy_train = accuracy_score(y_train_resampled, y_pred_train)\n",
    "knn_accuracy_val = accuracy_score(y_val, y_pred_val)\n",
    "print(\"Accuracy of Training Model:\", knn_accuracy_train)\n",
    "print(\"Accuracy of Validation Model:\", knn_accuracy_val)\n",
    "print('')\n",
    "print('Training & Validation Confusion Matrices:')\n",
    "print('Training   confusion matrix:\\n', confusion_matrix(y_train_resampled, y_pred_train))\n",
    "print('Validation confusion matrix:\\n', confusion_matrix(y_val, y_pred_val))\n"
   ]
  },
  {
   "cell_type": "markdown",
   "id": "e5564d06",
   "metadata": {},
   "source": [
    "This model looks a lot more realistic than the model before. Upsampling the data and then downsampling it, seems to be working."
   ]
  },
  {
   "cell_type": "markdown",
   "id": "096d5012",
   "metadata": {},
   "source": [
    "## 4.4 KNN Model (with K = 3) on Cleaned App_train_bureau Dataframe"
   ]
  },
  {
   "cell_type": "code",
   "execution_count": 350,
   "id": "08ea5326",
   "metadata": {},
   "outputs": [
    {
     "name": "stderr",
     "output_type": "stream",
     "text": [
      "C:\\Users\\jital\\anaconda3\\lib\\site-packages\\sklearn\\neighbors\\_classification.py:228: FutureWarning: Unlike other reduction functions (e.g. `skew`, `kurtosis`), the default behavior of `mode` typically preserves the axis it acts along. In SciPy 1.11.0, this behavior will change: the default value of `keepdims` will become False, the `axis` over which the statistic is taken will be eliminated, and the value None will no longer be accepted. Set `keepdims` to True or False to avoid this warning.\n",
      "  mode, _ = stats.mode(_y[neigh_ind, k], axis=1)\n",
      "C:\\Users\\jital\\anaconda3\\lib\\site-packages\\sklearn\\neighbors\\_classification.py:228: FutureWarning: Unlike other reduction functions (e.g. `skew`, `kurtosis`), the default behavior of `mode` typically preserves the axis it acts along. In SciPy 1.11.0, this behavior will change: the default value of `keepdims` will become False, the `axis` over which the statistic is taken will be eliminated, and the value None will no longer be accepted. Set `keepdims` to True or False to avoid this warning.\n",
      "  mode, _ = stats.mode(_y[neigh_ind, k], axis=1)\n"
     ]
    },
    {
     "name": "stdout",
     "output_type": "stream",
     "text": [
      "Accuracy of Training Model: 0.9537619047619048\n",
      "Accuracy of Validation Model: 0.9176888888888889\n",
      "\n",
      "Training & Validation Confusion Metrices:\n",
      "Training   confusion matrix:\n",
      " [[95954   741]\n",
      " [ 4114  4191]]\n",
      "Validation confusion matrix:\n",
      " [[40622   882]\n",
      " [ 2822   674]]\n"
     ]
    }
   ],
   "source": [
    "from sklearn.model_selection import train_test_split\n",
    "from sklearn.metrics import confusion_matrix\n",
    "\n",
    "# Sub-sampling random 150,000 rows from the dataframe\n",
    "train_bureau_sample = app_train_bureau_clean.sample(n=150000, random_state=42)\n",
    "\n",
    "# Performing one-hot encoding on categorical columns\n",
    "categorical_columns_b = train_bureau_sample.select_dtypes(include=['object']).columns\n",
    "app_train_bureau_clean_encoded = pd.get_dummies(train_bureau_sample, columns=categorical_columns_b)\n",
    "\n",
    "# Separating features and target variable\n",
    "Xb = app_train_bureau_clean_encoded.drop('TARGET', axis=1)\n",
    "yb = app_train_bureau_clean_encoded['TARGET']\n",
    "\n",
    "# Splitting the data into training and validation sets\n",
    "Xb_train, Xb_val, yb_train, yb_val = train_test_split(Xb, yb, test_size=0.3, random_state=42)\n",
    "\n",
    "# Scaling\n",
    "scaler = StandardScaler()\n",
    "Xb_train_scaled = scaler.fit_transform(Xb_train)\n",
    "Xb_val_scaled = scaler.transform(Xb_val)\n",
    "\n",
    "# Creating KNN with 5 Neighbors\n",
    "knn = KNeighborsClassifier(n_neighbors=3)\n",
    "\n",
    "# Training the model\n",
    "knn.fit(Xb_train_scaled, yb_train)\n",
    "\n",
    "# Making predictions\n",
    "yb_pred_val = knn.predict(Xb_val_scaled)\n",
    "yb_pred_train = knn.predict(Xb_train_scaled)\n",
    "\n",
    "# Calculating accuracy and confusion matrix\n",
    "knn_accuracy_trainb = accuracy_score(yb_train, yb_pred_train)\n",
    "knn_accuracy_valb = accuracy_score(yb_val, yb_pred_val)\n",
    "print(\"Accuracy of Training Model:\", knn_accuracy_trainb)\n",
    "print(\"Accuracy of Validation Model:\", knn_accuracy_valb)\n",
    "print('')\n",
    "print('Training & Validation Confusion Metrices:')\n",
    "print('Training   confusion matrix:\\n', confusion_matrix(yb_train, yb_pred_train))\n",
    "print('Validation confusion matrix:\\n', confusion_matrix(yb_val, yb_pred_val))"
   ]
  },
  {
   "cell_type": "markdown",
   "id": "ea8b96e0",
   "metadata": {},
   "source": [
    "## 4.5 KNN Model (with K = 5) on Cleaned App_train_bureau Dataframe"
   ]
  },
  {
   "cell_type": "code",
   "execution_count": 351,
   "id": "ac181193",
   "metadata": {},
   "outputs": [
    {
     "name": "stderr",
     "output_type": "stream",
     "text": [
      "C:\\Users\\jital\\anaconda3\\lib\\site-packages\\sklearn\\neighbors\\_classification.py:228: FutureWarning: Unlike other reduction functions (e.g. `skew`, `kurtosis`), the default behavior of `mode` typically preserves the axis it acts along. In SciPy 1.11.0, this behavior will change: the default value of `keepdims` will become False, the `axis` over which the statistic is taken will be eliminated, and the value None will no longer be accepted. Set `keepdims` to True or False to avoid this warning.\n",
      "  mode, _ = stats.mode(_y[neigh_ind, k], axis=1)\n",
      "C:\\Users\\jital\\anaconda3\\lib\\site-packages\\sklearn\\neighbors\\_classification.py:228: FutureWarning: Unlike other reduction functions (e.g. `skew`, `kurtosis`), the default behavior of `mode` typically preserves the axis it acts along. In SciPy 1.11.0, this behavior will change: the default value of `keepdims` will become False, the `axis` over which the statistic is taken will be eliminated, and the value None will no longer be accepted. Set `keepdims` to True or False to avoid this warning.\n",
      "  mode, _ = stats.mode(_y[neigh_ind, k], axis=1)\n"
     ]
    },
    {
     "name": "stdout",
     "output_type": "stream",
     "text": [
      "Accuracy of Training Model: 0.9349619047619048\n",
      "Accuracy of Validation Model: 0.9197555555555555\n",
      "\n",
      "Training & Validation Confusion Metrices:\n",
      "Training   confusion matrix:\n",
      " [[96256   439]\n",
      " [ 6390  1915]]\n",
      "Validation confusion matrix:\n",
      " [[41099   405]\n",
      " [ 3206   290]]\n"
     ]
    }
   ],
   "source": [
    "from sklearn.metrics import confusion_matrix\n",
    "\n",
    "# Creating KNN with 3 Neighbors\n",
    "knn = KNeighborsClassifier(n_neighbors=5)\n",
    "\n",
    "# Training the model\n",
    "knn.fit(Xb_train_scaled, yb_train)\n",
    "\n",
    "# Making predictions\n",
    "yb_pred_val = knn.predict(Xb_val_scaled)\n",
    "yb_pred_train = knn.predict(Xb_train_scaled)\n",
    "\n",
    "# Calculating accuracy and confusion matrix\n",
    "knn2_accuracy_trainb = accuracy_score(yb_train, yb_pred_train)\n",
    "knn2_accuracy_valb = accuracy_score(yb_val, yb_pred_val)\n",
    "print(\"Accuracy of Training Model:\", knn2_accuracy_trainb)\n",
    "print(\"Accuracy of Validation Model:\", knn2_accuracy_valb)\n",
    "print('')\n",
    "print('Training & Validation Confusion Metrices:')\n",
    "print('Training   confusion matrix:\\n', confusion_matrix(yb_train, yb_pred_train))\n",
    "print('Validation confusion matrix:\\n', confusion_matrix(yb_val, yb_pred_val))"
   ]
  },
  {
   "cell_type": "markdown",
   "id": "7035051a",
   "metadata": {},
   "source": [
    "Like with the models on the app_train dataframed,both of these models were too accurate. Lets also try balancing the target variable in this dataframe."
   ]
  },
  {
   "cell_type": "markdown",
   "id": "b8748f5f",
   "metadata": {},
   "source": [
    "## 4.6 KNN Model (with K = 3) on  App_train Dataframe with Sampling"
   ]
  },
  {
   "cell_type": "code",
   "execution_count": 352,
   "id": "3089ca2e",
   "metadata": {},
   "outputs": [
    {
     "name": "stderr",
     "output_type": "stream",
     "text": [
      "C:\\Users\\jital\\anaconda3\\lib\\site-packages\\sklearn\\neighbors\\_classification.py:228: FutureWarning: Unlike other reduction functions (e.g. `skew`, `kurtosis`), the default behavior of `mode` typically preserves the axis it acts along. In SciPy 1.11.0, this behavior will change: the default value of `keepdims` will become False, the `axis` over which the statistic is taken will be eliminated, and the value None will no longer be accepted. Set `keepdims` to True or False to avoid this warning.\n",
      "  mode, _ = stats.mode(_y[neigh_ind, k], axis=1)\n",
      "C:\\Users\\jital\\anaconda3\\lib\\site-packages\\sklearn\\neighbors\\_classification.py:228: FutureWarning: Unlike other reduction functions (e.g. `skew`, `kurtosis`), the default behavior of `mode` typically preserves the axis it acts along. In SciPy 1.11.0, this behavior will change: the default value of `keepdims` will become False, the `axis` over which the statistic is taken will be eliminated, and the value None will no longer be accepted. Set `keepdims` to True or False to avoid this warning.\n",
      "  mode, _ = stats.mode(_y[neigh_ind, k], axis=1)\n"
     ]
    },
    {
     "name": "stdout",
     "output_type": "stream",
     "text": [
      "Accuracy of Training Model: 0.8911405421697427\n",
      "Accuracy of Validation Model: 0.6714444444444444\n",
      "\n",
      "Training & Validation Confusion Metrices:\n",
      "Training   confusion matrix:\n",
      " [[26901  5329]\n",
      " [  811 23362]]\n",
      "Validation confusion matrix:\n",
      " [[28709 12795]\n",
      " [ 1990  1506]]\n"
     ]
    }
   ],
   "source": [
    "from sklearn.model_selection import train_test_split\n",
    "from sklearn.metrics import confusion_matrix\n",
    "\n",
    "# Sub-sampling random 150,000 rows from the dataframe\n",
    "train_bureau_sample = app_train_bureau_clean.sample(n=150000, random_state=42)\n",
    "\n",
    "# Performing one-hot encoding on categorical columns\n",
    "categorical_columns_b = train_bureau_sample.select_dtypes(include=['object']).columns\n",
    "app_train_bureau_clean_encoded = pd.get_dummies(train_bureau_sample, columns=categorical_columns_b)\n",
    "\n",
    "# Separating features and target variable\n",
    "Xb = app_train_bureau_clean_encoded.drop('TARGET', axis=1)\n",
    "yb = app_train_bureau_clean_encoded['TARGET']\n",
    "\n",
    "# Splitting the data into training and validation sets\n",
    "Xb_train, Xb_val, yb_train, yb_val = train_test_split(Xb, yb, test_size=0.3, random_state=42)\n",
    "\n",
    "from imblearn.over_sampling import SMOTE\n",
    "from imblearn.under_sampling import RandomUnderSampler\n",
    "\n",
    "# Applying oversampling and undersampling\n",
    "oversampler = SMOTE(sampling_strategy=0.25)  \n",
    "undersampler = RandomUnderSampler(sampling_strategy=0.75)  \n",
    "\n",
    "Xb_train_oversampled, yb_train_oversampled = oversampler.fit_resample(Xb_train, yb_train)\n",
    "Xb_train_resampled, yb_train_resampled = undersampler.fit_resample(Xb_train_oversampled, yb_train_oversampled)\n",
    "\n",
    "# Creating KNN with 5 Neighbors\n",
    "knn = KNeighborsClassifier(n_neighbors=3)\n",
    "\n",
    "# Training the model\n",
    "knn.fit(Xb_train_resampled, yb_train_resampled)\n",
    "\n",
    "# Making predictions\n",
    "yb_pred_val = knn.predict(Xb_val)\n",
    "yb_pred_train = knn.predict(Xb_train_resampled)\n",
    "\n",
    "# Calculating accuracy and confusion matrix\n",
    "knn_accuracy_trainb = accuracy_score(yb_train_resampled, yb_pred_train)\n",
    "knn_accuracy_valb = accuracy_score(yb_val, yb_pred_val)\n",
    "print(\"Accuracy of Training Model:\", knn_accuracy_trainb)\n",
    "print(\"Accuracy of Validation Model:\", knn_accuracy_valb)\n",
    "print('')\n",
    "print('Training & Validation Confusion Metrices:')\n",
    "print('Training   confusion matrix:\\n', confusion_matrix(yb_train_resampled, yb_pred_train))\n",
    "print('Validation confusion matrix:\\n', confusion_matrix(yb_val, yb_pred_val))"
   ]
  },
  {
   "cell_type": "markdown",
   "id": "c9b71294",
   "metadata": {},
   "source": [
    "## 4.7 KNN Results"
   ]
  },
  {
   "cell_type": "markdown",
   "id": "c678b540",
   "metadata": {},
   "source": [
    "The KNN model with the best results is the KNN with 3 nearest neighbors using the app_train_bureau_clean dataframe. Its accuracy using the training set was 89% and 67% on the validation set. Both accuracies are the highest compared to the other models"
   ]
  },
  {
   "cell_type": "markdown",
   "id": "310a4a4d",
   "metadata": {},
   "source": [
    "# 5. Light Gradient Boosting Model"
   ]
  },
  {
   "cell_type": "code",
   "execution_count": 233,
   "id": "a4d4161a",
   "metadata": {},
   "outputs": [
    {
     "name": "stdout",
     "output_type": "stream",
     "text": [
      "Collecting lightgbm\n",
      "  Downloading lightgbm-3.3.5-py3-none-win_amd64.whl (1.0 MB)\n",
      "     ---------------------------------------- 1.0/1.0 MB 2.8 MB/s eta 0:00:00\n",
      "Requirement already satisfied: scikit-learn!=0.22.0 in c:\\users\\jital\\anaconda3\\lib\\site-packages (from lightgbm) (1.0.2)\n",
      "Requirement already satisfied: scipy in c:\\users\\jital\\anaconda3\\lib\\site-packages (from lightgbm) (1.9.1)\n",
      "Requirement already satisfied: wheel in c:\\users\\jital\\anaconda3\\lib\\site-packages (from lightgbm) (0.37.1)\n",
      "Requirement already satisfied: numpy in c:\\users\\jital\\anaconda3\\lib\\site-packages (from lightgbm) (1.21.5)\n",
      "Requirement already satisfied: joblib>=0.11 in c:\\users\\jital\\anaconda3\\lib\\site-packages (from scikit-learn!=0.22.0->lightgbm) (1.1.0)\n",
      "Requirement already satisfied: threadpoolctl>=2.0.0 in c:\\users\\jital\\anaconda3\\lib\\site-packages (from scikit-learn!=0.22.0->lightgbm) (2.2.0)\n",
      "Installing collected packages: lightgbm\n",
      "Successfully installed lightgbm-3.3.5\n",
      "Note: you may need to restart the kernel to use updated packages.\n"
     ]
    }
   ],
   "source": [
    "#pip install lightgbm"
   ]
  },
  {
   "cell_type": "markdown",
   "id": "a7c844b5",
   "metadata": {},
   "source": [
    "## 5.1 LGB Model on Cleaned App_train Dataframe"
   ]
  },
  {
   "cell_type": "code",
   "execution_count": 15,
   "id": "ad44dc1b",
   "metadata": {},
   "outputs": [
    {
     "name": "stdout",
     "output_type": "stream",
     "text": [
      "[LightGBM] [Warning] Auto-choosing row-wise multi-threading, the overhead of testing was 0.033308 seconds.\n",
      "You can set `force_row_wise=true` to remove the overhead.\n",
      "And if memory is not enough, you can set `force_col_wise=true`.\n",
      "[LightGBM] [Warning] Auto-choosing row-wise multi-threading, the overhead of testing was 0.015602 seconds.\n",
      "You can set `force_row_wise=true` to remove the overhead.\n",
      "And if memory is not enough, you can set `force_col_wise=true`.\n",
      "Accuracy of Training Model: 0.9218551107064212\n",
      "Accuracy of Validation Model: 0.9488249577244938\n",
      "\n",
      "Training & Validation Confusion Metrices:\n",
      "Training   confusion matrix:\n",
      " [[195806   2072]\n",
      " [ 14749   2627]]\n",
      "Validation confusion matrix:\n",
      " [[84081   723]\n",
      " [ 3998  3450]]\n"
     ]
    }
   ],
   "source": [
    "import lightgbm as lgb\n",
    "from sklearn.model_selection import train_test_split\n",
    "from sklearn.metrics import accuracy_score\n",
    "from sklearn.metrics import confusion_matrix\n",
    "import re\n",
    "\n",
    "# Performing one-hot encoding on categorical columns\n",
    "categorical_columns = app_train_cleaned.select_dtypes(include=['object']).columns\n",
    "app_train_cleaned_encoded = pd.get_dummies(app_train_cleaned, columns=categorical_columns)\n",
    "\n",
    "# Separating features and target variable\n",
    "X = app_train_cleaned_encoded.drop('TARGET', axis=1)\n",
    "y = app_train_cleaned_encoded['TARGET']\n",
    "\n",
    "# Splitting the data into training and validation sets\n",
    "X_train, X_val, y_train, y_val = train_test_split(X, y, test_size=0.3, random_state=42)\n",
    "\n",
    "# Removing special characters from column names\n",
    "clean_names_train = [re.sub(r'\\W+', '_', feature) for feature in X_train.columns]\n",
    "clean_names_val = [re.sub(r'\\W+', '_', feature) for feature in X_val.columns]\n",
    "\n",
    "# Assigning the clean column names to the dataframes\n",
    "X_train.columns = clean_names_train\n",
    "X_val.columns = clean_names_val\n",
    "\n",
    "\n",
    "# Creating a LightGBM dataset\n",
    "train_data = lgb.Dataset(X_train, label=y_train)\n",
    "val_data = lgb.Dataset(X_val, label=y_val)\n",
    "\n",
    "# Seting the parameters for the LightGBM model\n",
    "params = {\n",
    "    'objective': 'binary',\n",
    "    'metric': 'binary_logloss',\n",
    "    'boosting_type': 'gbdt',\n",
    "    'num_leaves': 50,\n",
    "    'learning_rate': 0.5,\n",
    "    'feature_fraction': 0.9,\n",
    "    'bagging_fraction': 0.8,\n",
    "    'bagging_freq': 5,\n",
    "    'verbose': 0\n",
    "}\n",
    "\n",
    "# Training the LightGBM model\n",
    "model_train = lgb.train(params, train_data, num_boost_round=100)\n",
    "model_val = lgb.train(params, val_data, num_boost_round=100)\n",
    "\n",
    "# Making predictions on the testing set\n",
    "y_pred_train = model_train.predict(X_train)\n",
    "y_pred_val = model_val.predict(X_val)\n",
    "\n",
    "# Converting probabilities to binary predictions\n",
    "y_pred_train_binary = [1 if p >= 0.5 else 0 for p in y_pred_train]\n",
    "y_pred_val_binary = [1 if p >= 0.5 else 0 for p in y_pred_val]\n",
    "\n",
    "# Calculating accuracy and confusion matrix\n",
    "accuracy_train = accuracy_score(y_train, y_pred_train_binary)\n",
    "accuracy_val = accuracy_score(y_val, y_pred_val_binary)\n",
    "print(\"Accuracy of Training Model:\", accuracy_train)\n",
    "print(\"Accuracy of Validation Model:\", accuracy_val)\n",
    "print('')\n",
    "print('Training & Validation Confusion Metrices:')\n",
    "print('Training   confusion matrix:\\n', confusion_matrix(y_train, y_pred_train_binary))\n",
    "print('Validation confusion matrix:\\n', confusion_matrix(y_val, y_pred_val_binary))"
   ]
  },
  {
   "cell_type": "markdown",
   "id": "8417709e",
   "metadata": {},
   "source": [
    "Based on these results, this model would just guess the targt to be 0 for ever row. Therefore, it could be better."
   ]
  },
  {
   "cell_type": "markdown",
   "id": "687eddfd",
   "metadata": {},
   "source": [
    "## 5.2 LGB Model on Cleaned App_train Dataframe with Sampling"
   ]
  },
  {
   "cell_type": "code",
   "execution_count": 17,
   "id": "1bd485e3",
   "metadata": {},
   "outputs": [
    {
     "name": "stdout",
     "output_type": "stream",
     "text": [
      "[LightGBM] [Warning] Auto-choosing row-wise multi-threading, the overhead of testing was 0.034686 seconds.\n",
      "You can set `force_row_wise=true` to remove the overhead.\n",
      "And if memory is not enough, you can set `force_col_wise=true`.\n",
      "[LightGBM] [Warning] Auto-choosing row-wise multi-threading, the overhead of testing was 0.006135 seconds.\n",
      "You can set `force_row_wise=true` to remove the overhead.\n",
      "And if memory is not enough, you can set `force_col_wise=true`.\n",
      "Accuracy of Training Model: 0.9977215036343317\n",
      "Accuracy of Validation Model: 1.0\n",
      "\n",
      "Training & Validation Confusion Metrices:\n",
      "Training   confusion matrix:\n",
      " [[65925    33]\n",
      " [  230 49239]]\n",
      "Validation confusion matrix:\n",
      " [[28268     0]\n",
      " [    0 21201]]\n"
     ]
    }
   ],
   "source": [
    "import lightgbm as lgb\n",
    "from sklearn.model_selection import train_test_split\n",
    "from sklearn.metrics import accuracy_score\n",
    "import re\n",
    "from imblearn.over_sampling import SMOTE\n",
    "from imblearn.under_sampling import RandomUnderSampler\n",
    "\n",
    "# Performing one-hot encoding on categorical columns\n",
    "categorical_columns = app_train_cleaned.select_dtypes(include=['object']).columns\n",
    "app_train_cleaned_encoded = pd.get_dummies(app_train_cleaned, columns=categorical_columns)\n",
    "\n",
    "# Separating features and target variable\n",
    "X = app_train_cleaned_encoded.drop('TARGET', axis=1)\n",
    "y = app_train_cleaned_encoded['TARGET']\n",
    "\n",
    "# Splitting the data into training and validation sets\n",
    "X_train, X_val, y_train, y_val = train_test_split(X, y, test_size=0.3, random_state=42)\n",
    "\n",
    "# Removing special characters from column names\n",
    "clean_names_train = [re.sub(r'\\W+', '_', feature) for feature in X_train.columns]\n",
    "clean_names_val = [re.sub(r'\\W+', '_', feature) for feature in X_val.columns]\n",
    "\n",
    "# Assigning the clean column names to the dataframes\n",
    "X_train.columns = clean_names_train\n",
    "X_val.columns = clean_names_val\n",
    "\n",
    "# Applying oversampling and undersampling\n",
    "oversampler = SMOTE(sampling_strategy=0.25)  \n",
    "undersampler = RandomUnderSampler(sampling_strategy=0.75)  \n",
    "\n",
    "X_train_oversampled, y_train_oversampled = oversampler.fit_resample(X_train, y_train)\n",
    "X_train_resampled, y_train_resampled = undersampler.fit_resample(X_train_oversampled, y_train_oversampled)\n",
    "\n",
    "X_val_oversampled, y_val_oversampled = oversampler.fit_resample(X_val, y_val)\n",
    "X_val_resampled, y_val_resampled = undersampler.fit_resample(X_val_oversampled, y_val_oversampled)\n",
    "\n",
    "\n",
    "# Creating a LightGBM dataset\n",
    "train_data = lgb.Dataset(X_train_resampled, label=y_train_resampled)\n",
    "val_data = lgb.Dataset(X_val_resampled, label=y_val_resampled)\n",
    "\n",
    "# Seting the parameters for the LightGBM model\n",
    "params = {\n",
    "    'objective': 'binary',\n",
    "    'metric': 'binary_logloss',\n",
    "    'boosting_type': 'gbdt',\n",
    "    'num_leaves': 50,\n",
    "    'learning_rate': 0.5,\n",
    "    'feature_fraction': 0.9,\n",
    "    'bagging_fraction': 0.8,\n",
    "    'bagging_freq': 5,\n",
    "    'verbose': 0\n",
    "}\n",
    "\n",
    "# Training the LightGBM model\n",
    "model_train = lgb.train(params, train_data, num_boost_round=500)\n",
    "model_val = lgb.train(params, val_data, num_boost_round=500)\n",
    "\n",
    "# Making predictions on the testing set\n",
    "y_pred_train = model_train.predict(X_train_resampled)\n",
    "y_pred_val = model_val.predict(X_val_resampled)\n",
    "\n",
    "# Converting probabilities to binary predictions\n",
    "y_pred_train_binary = [1 if p >= 0.5 else 0 for p in y_pred_train]\n",
    "y_pred_val_binary = [1 if p >= 0.5 else 0 for p in y_pred_val]\n",
    "\n",
    "# Calculating accuracy and confusion matrix\n",
    "accuracy_train = accuracy_score(y_train_resampled, y_pred_train_binary)\n",
    "accuracy_val = accuracy_score(y_val_resampled, y_pred_val_binary)\n",
    "print(\"Accuracy of Training Model:\", accuracy_train)\n",
    "print(\"Accuracy of Validation Model:\", accuracy_val)\n",
    "print('')\n",
    "print('Training & Validation Confusion Metrices:')\n",
    "print('Training   confusion matrix:\\n', confusion_matrix(y_train_resampled, y_pred_train_binary))\n",
    "print('Validation confusion matrix:\\n', confusion_matrix(y_val_resampled, y_pred_val_binary))"
   ]
  },
  {
   "cell_type": "code",
   "execution_count": 18,
   "id": "4ae6ee06",
   "metadata": {},
   "outputs": [
    {
     "name": "stdout",
     "output_type": "stream",
     "text": [
      "Top 10 important features:\n",
      "DAYS_ID_PUBLISH: 1761\n",
      "DAYS_REGISTRATION: 1716\n",
      "DAYS_LAST_PHONE_CHANGE: 1694\n",
      "EXT_SOURCE_2: 1682\n",
      "AMT_ANNUITY: 1595\n",
      "DAYS_BIRTH: 1589\n",
      "DAYS_EMPLOYED: 1531\n",
      "EXT_SOURCE_3: 1456\n",
      "REGION_POPULATION_RELATIVE: 1310\n",
      "AMT_CREDIT: 1307\n"
     ]
    },
    {
     "data": {
      "image/png": "[encoded data removed]",
      "text/plain": [
       "<Figure size 1000x600 with 1 Axes>"
      ]
     },
     "metadata": {},
     "output_type": "display_data"
    }
   ],
   "source": [
    "# After training the LightGBM model, get the feature importances\n",
    "feature_importances = model_train.feature_importance()\n",
    "\n",
    "# Create a dictionary with feature names and their importances\n",
    "feature_importance_dict = dict(zip(X_train_resampled.columns, feature_importances))\n",
    "\n",
    "# Sort the features based on their importance scores in descending order\n",
    "sorted_feature_importance = sorted(feature_importance_dict.items(), key=lambda x: x[1], reverse=True)\n",
    "\n",
    "# Display the top N important features\n",
    "N = 10\n",
    "print(f\"Top {N} important features:\")\n",
    "for feature, importance in sorted_feature_importance[:N]:\n",
    "    print(f\"{feature}: {importance}\")\n",
    "\n",
    "# You can also plot the feature importances using a bar chart\n",
    "# Create a list of feature names and their importances\n",
    "feature_names, importance_scores = zip(*sorted_feature_importance)\n",
    "\n",
    "# Plot the feature importances\n",
    "plt.figure(figsize=(10, 6))\n",
    "plt.bar(range(len(feature_names[:N])), importance_scores[:N], tick_label=feature_names[:N])\n",
    "plt.xticks(rotation=45, ha='right')\n",
    "plt.xlabel('Feature')\n",
    "plt.ylabel('Importance Score')\n",
    "plt.title('Top 10 Important Features')\n",
    "plt.tight_layout()\n",
    "plt.show()"
   ]
  },
  {
   "cell_type": "code",
   "execution_count": 27,
   "id": "b88f6405",
   "metadata": {},
   "outputs": [
    {
     "name": "stdout",
     "output_type": "stream",
     "text": [
      "\n",
      "Feature: DAYS_ID_PUBLISH\n",
      "Defaulters:\n",
      "count    49469.000000\n",
      "mean     -2754.235137\n",
      "std       1338.377973\n",
      "min      -4944.000000\n",
      "25%      -3989.000000\n",
      "50%      -2804.000000\n",
      "75%      -1628.000000\n",
      "max       -375.000000\n",
      "Name: DAYS_ID_PUBLISH, dtype: float64\n",
      "\n",
      "Non-Defaulters:\n",
      "count    65958.000000\n",
      "mean     -3010.319355\n",
      "std       1468.066281\n",
      "min      -4944.000000\n",
      "25%      -4312.750000\n",
      "50%      -3300.000000\n",
      "75%      -1746.000000\n",
      "max       -375.000000\n",
      "Name: DAYS_ID_PUBLISH, dtype: float64\n",
      "\n",
      "Feature: DAYS_REGISTRATION\n",
      "Defaulters:\n",
      "count    49469.000000\n",
      "mean     -4392.604172\n",
      "std       2865.709525\n",
      "min     -11416.000000\n",
      "25%      -6284.000000\n",
      "50%      -4024.000000\n",
      "75%      -2036.309253\n",
      "max       -330.000000\n",
      "Name: DAYS_REGISTRATION, dtype: float64\n",
      "\n",
      "Non-Defaulters:\n",
      "count    65958.000000\n",
      "mean     -4948.717776\n",
      "std       3345.262971\n",
      "min     -11416.000000\n",
      "25%      -7545.000000\n",
      "50%      -4520.000000\n",
      "75%      -2046.000000\n",
      "max       -330.000000\n",
      "Name: DAYS_REGISTRATION, dtype: float64\n",
      "\n",
      "Feature: DAYS_LAST_PHONE_CHANGE\n",
      "Defaulters:\n",
      "count    49469.000000\n",
      "mean      -802.592907\n",
      "std        652.490390\n",
      "min      -2522.000000\n",
      "25%      -1221.628166\n",
      "50%       -645.691045\n",
      "75%       -285.000000\n",
      "max          0.000000\n",
      "Name: DAYS_LAST_PHONE_CHANGE, dtype: float64\n",
      "\n",
      "Non-Defaulters:\n",
      "count    65958.000000\n",
      "mean      -960.872055\n",
      "std        788.827382\n",
      "min      -2522.000000\n",
      "25%      -1589.000000\n",
      "50%       -779.000000\n",
      "75%       -289.000000\n",
      "max          0.000000\n",
      "Name: DAYS_LAST_PHONE_CHANGE, dtype: float64\n",
      "\n",
      "Feature: EXT_SOURCE_2\n",
      "Defaulters:\n",
      "count    49469.000000\n",
      "mean         0.419481\n",
      "std          0.174425\n",
      "min          0.133636\n",
      "25%          0.271545\n",
      "50%          0.429532\n",
      "75%          0.565961\n",
      "max          0.747681\n",
      "Name: EXT_SOURCE_2, dtype: float64\n",
      "\n",
      "Non-Defaulters:\n",
      "count    65958.000000\n",
      "mean         0.524991\n",
      "std          0.178332\n",
      "min          0.133636\n",
      "25%          0.410027\n",
      "50%          0.573688\n",
      "75%          0.667806\n",
      "max          0.747681\n",
      "Name: EXT_SOURCE_2, dtype: float64\n",
      "\n",
      "Feature: AMT_ANNUITY\n",
      "Defaulters:\n",
      "count    49469.000000\n",
      "mean     26236.144720\n",
      "std      11308.852618\n",
      "min       9000.000000\n",
      "25%      17479.051948\n",
      "50%      25299.000000\n",
      "75%      33025.500000\n",
      "max      53325.000000\n",
      "Name: AMT_ANNUITY, dtype: float64\n",
      "\n",
      "Non-Defaulters:\n",
      "count    65958.000000\n",
      "mean     26587.387974\n",
      "std      12617.577097\n",
      "min       9000.000000\n",
      "25%      16353.000000\n",
      "50%      24750.000000\n",
      "75%      34767.000000\n",
      "max      53325.000000\n",
      "Name: AMT_ANNUITY, dtype: float64\n",
      "\n",
      "Feature: DAYS_BIRTH\n",
      "Defaulters:\n",
      "count    49469.000000\n",
      "mean    -14844.771291\n",
      "std       3876.283610\n",
      "min     -23204.000000\n",
      "25%     -17601.000000\n",
      "50%     -14209.000000\n",
      "75%     -11593.000000\n",
      "max      -9407.000000\n",
      "Name: DAYS_BIRTH, dtype: float64\n",
      "\n",
      "Non-Defaulters:\n",
      "count    65958.000000\n",
      "mean    -16153.298417\n",
      "std       4249.854953\n",
      "min     -23204.000000\n",
      "25%     -19832.000000\n",
      "50%     -15899.000000\n",
      "75%     -12554.250000\n",
      "max      -9407.000000\n",
      "Name: DAYS_BIRTH, dtype: float64\n",
      "\n",
      "Feature: DAYS_EMPLOYED\n",
      "Defaulters:\n",
      "count     49469.000000\n",
      "mean      41978.139562\n",
      "std      118864.054353\n",
      "min       -6742.000000\n",
      "25%       -2109.000000\n",
      "50%       -1130.000000\n",
      "75%        -491.000000\n",
      "max      365243.000000\n",
      "Name: DAYS_EMPLOYED, dtype: float64\n",
      "\n",
      "Non-Defaulters:\n",
      "count     65958.000000\n",
      "mean      66683.763107\n",
      "std      143497.869326\n",
      "min       -6742.000000\n",
      "25%       -2783.000000\n",
      "50%       -1222.500000\n",
      "75%        -270.000000\n",
      "max      365243.000000\n",
      "Name: DAYS_EMPLOYED, dtype: float64\n",
      "\n",
      "Feature: EXT_SOURCE_3\n",
      "Defaulters:\n",
      "count    49469.000000\n",
      "mean         0.433092\n",
      "std          0.154962\n",
      "min          0.174564\n",
      "25%          0.304672\n",
      "50%          0.454321\n",
      "75%          0.535276\n",
      "max          0.777659\n",
      "Name: EXT_SOURCE_3, dtype: float64\n",
      "\n",
      "Non-Defaulters:\n",
      "count    65958.000000\n",
      "mean         0.523930\n",
      "std          0.161806\n",
      "min          0.174564\n",
      "25%          0.429424\n",
      "50%          0.535276\n",
      "75%          0.643026\n",
      "max          0.777659\n",
      "Name: EXT_SOURCE_3, dtype: float64\n",
      "\n",
      "Feature: REGION_POPULATION_RELATIVE\n",
      "Defaulters:\n",
      "count    49469.000000\n",
      "mean         0.018782\n",
      "std          0.009247\n",
      "min          0.004960\n",
      "25%          0.010655\n",
      "50%          0.018504\n",
      "75%          0.024727\n",
      "max          0.046220\n",
      "Name: REGION_POPULATION_RELATIVE, dtype: float64\n",
      "\n",
      "Non-Defaulters:\n",
      "count    65958.000000\n",
      "mean         0.020349\n",
      "std          0.011594\n",
      "min          0.004960\n",
      "25%          0.010006\n",
      "50%          0.018850\n",
      "75%          0.028663\n",
      "max          0.046220\n",
      "Name: REGION_POPULATION_RELATIVE, dtype: float64\n",
      "\n",
      "Feature: AMT_CREDIT\n",
      "Defaulters:\n",
      "count    4.946900e+04\n",
      "mean     5.497102e+05\n",
      "std      3.187138e+05\n",
      "min      1.350000e+05\n",
      "25%      2.844000e+05\n",
      "50%      4.950000e+05\n",
      "75%      7.297920e+05\n",
      "max      1.350000e+06\n",
      "Name: AMT_CREDIT, dtype: float64\n",
      "\n",
      "Non-Defaulters:\n",
      "count    6.595800e+04\n",
      "mean     5.876590e+05\n",
      "std      3.601967e+05\n",
      "min      1.350000e+05\n",
      "25%      2.700000e+05\n",
      "50%      5.185620e+05\n",
      "75%      8.100000e+05\n",
      "max      1.350000e+06\n",
      "Name: AMT_CREDIT, dtype: float64\n"
     ]
    }
   ],
   "source": [
    "defaulters_data = X_train_resampled[y_train_resampled == 1]\n",
    "non_defaulters_data = X_train_resampled[y_train_resampled == 0]\n",
    "\n",
    "# Loop through each feature and analyze its distribution for defaulters and non-defaulters\n",
    "for feature, importance in sorted_feature_importance[:N]:\n",
    "    print(f\"\\nFeature: {feature}\")\n",
    "    print(\"Defaulters:\")\n",
    "    print(defaulters_data[feature].describe())\n",
    "    print(\"\\nNon-Defaulters:\")\n",
    "    print(non_defaulters_data[feature].describe())"
   ]
  },
  {
   "cell_type": "markdown",
   "id": "d49abb4c",
   "metadata": {},
   "source": [
    "## 5.3 LGB Model on Cleaned App_train_bureau Dataframe"
   ]
  },
  {
   "cell_type": "code",
   "execution_count": 357,
   "id": "2eb05433",
   "metadata": {},
   "outputs": [
    {
     "name": "stdout",
     "output_type": "stream",
     "text": [
      "[LightGBM] [Warning] Auto-choosing row-wise multi-threading, the overhead of testing was 0.012733 seconds.\n",
      "You can set `force_row_wise=true` to remove the overhead.\n",
      "And if memory is not enough, you can set `force_col_wise=true`.\n",
      "[LightGBM] [Warning] Auto-choosing row-wise multi-threading, the overhead of testing was 0.005437 seconds.\n",
      "You can set `force_row_wise=true` to remove the overhead.\n",
      "And if memory is not enough, you can set `force_col_wise=true`.\n",
      "Accuracy of Training Model: 0.9504\n",
      "Accuracy of Validation Model: 0.9956666666666667\n",
      "\n",
      "Training & Validation Confusion Metrices:\n",
      "Training   confusion matrix:\n",
      " [[95612  1083]\n",
      " [ 4125  4180]]\n",
      "Validation confusion matrix:\n",
      " [[41478    26]\n",
      " [  169  3327]]\n"
     ]
    }
   ],
   "source": [
    "import lightgbm as lgb\n",
    "from sklearn.model_selection import train_test_split\n",
    "from sklearn.metrics import accuracy_score\n",
    "import re\n",
    "\n",
    "# Removing special characters from column names\n",
    "clean_names_trainb = [re.sub(r'\\W+', '_', feature) for feature in Xb_train.columns]\n",
    "clean_names_valb = [re.sub(r'\\W+', '_', feature) for feature in Xb_val.columns]\n",
    "\n",
    "# Assigning the clean column names to your dataset\n",
    "Xb_train.columns = clean_names_trainb\n",
    "Xb_val.columns = clean_names_valb\n",
    "\n",
    "\n",
    "# Creating a LightGBM dataset\n",
    "trainb_data = lgb.Dataset(Xb_train, label=yb_train)\n",
    "valb_data = lgb.Dataset(Xb_val, label=yb_val)\n",
    "\n",
    "# Seting the parameters for the LightGBM model\n",
    "params = {\n",
    "    'objective': 'binary',\n",
    "    'metric': 'binary_logloss',\n",
    "    'boosting_type': 'gbdt',\n",
    "    'num_leaves': 50,\n",
    "    'learning_rate': 0.5,\n",
    "    'feature_fraction': 0.9,\n",
    "    'bagging_fraction': 0.8,\n",
    "    'bagging_freq': 5,\n",
    "    'verbose': 0\n",
    "}\n",
    "\n",
    "# Training the LightGBM model\n",
    "model_trainb = lgb.train(params, trainb_data, num_boost_round=100)\n",
    "model_valb = lgb.train(params, valb_data, num_boost_round=100)\n",
    "\n",
    "# Making predictions on the testing set\n",
    "yb_pred_train = model_trainb.predict(Xb_train)\n",
    "yb_pred_val = model_valb.predict(Xb_val)\n",
    "\n",
    "# Converting probabilities to binary predictions\n",
    "yb_pred_train_binary = [1 if p >= 0.5 else 0 for p in yb_pred_train]\n",
    "yb_pred_val_binary = [1 if p >= 0.5 else 0 for p in yb_pred_val]\n",
    "\n",
    "# Calculating accuracy and confusion matrix\n",
    "accuracy_trainb = accuracy_score(yb_train, yb_pred_train_binary)\n",
    "accuracy_valb = accuracy_score(yb_val, yb_pred_val_binary)\n",
    "print(\"Accuracy of Training Model:\", accuracy_trainb)\n",
    "print(\"Accuracy of Validation Model:\", accuracy_valb)\n",
    "print('')\n",
    "print('Training & Validation Confusion Metrices:')\n",
    "print('Training   confusion matrix:\\n', confusion_matrix(yb_train, yb_pred_train_binary))\n",
    "print('Validation confusion matrix:\\n', confusion_matrix(yb_val, yb_pred_val_binary))"
   ]
  },
  {
   "cell_type": "markdown",
   "id": "0ee42804",
   "metadata": {},
   "source": [
    "## 5.4 LGB Model on Cleaned App_train_bureau Dataframe with Sampling"
   ]
  },
  {
   "cell_type": "code",
   "execution_count": 383,
   "id": "530211e4",
   "metadata": {},
   "outputs": [
    {
     "name": "stdout",
     "output_type": "stream",
     "text": [
      "[LightGBM] [Warning] Auto-choosing row-wise multi-threading, the overhead of testing was 0.005864 seconds.\n",
      "You can set `force_row_wise=true` to remove the overhead.\n",
      "And if memory is not enough, you can set `force_col_wise=true`.\n",
      "[LightGBM] [Warning] Auto-choosing row-wise multi-threading, the overhead of testing was 0.002326 seconds.\n",
      "You can set `force_row_wise=true` to remove the overhead.\n",
      "And if memory is not enough, you can set `force_col_wise=true`.\n",
      "Accuracy of Training Model: 0.9651259684768541\n",
      "Accuracy of Validation Model: 0.9986782321354812\n",
      "\n",
      "Training & Validation Confusion Metrices:\n",
      "Training   confusion matrix:\n",
      " [[31902   328]\n",
      " [ 1639 22534]]\n",
      "Validation confusion matrix:\n",
      " [[13831     3]\n",
      " [   29 10347]]\n"
     ]
    }
   ],
   "source": [
    "import lightgbm as lgb\n",
    "from sklearn.model_selection import train_test_split\n",
    "from sklearn.metrics import accuracy_score\n",
    "import re\n",
    "\n",
    "# Performing one-hot encoding on categorical columns\n",
    "categorical_columns_b = train_bureau_sample.select_dtypes(include=['object']).columns\n",
    "app_train_bureau_clean_encoded = pd.get_dummies(train_bureau_sample, columns=categorical_columns_b)\n",
    "\n",
    "# Separating features and target variable\n",
    "Xb = app_train_bureau_clean_encoded.drop('TARGET', axis=1)\n",
    "yb = app_train_bureau_clean_encoded['TARGET']\n",
    "\n",
    "# Splitting the data into training and validation sets\n",
    "Xb_train, Xb_val, yb_train, yb_val = train_test_split(Xb, yb, test_size=0.3, random_state=42)\n",
    "\n",
    "# Removing special characters from column names\n",
    "clean_names_trainb = [re.sub(r'\\W+', '_', feature) for feature in Xb_train.columns]\n",
    "clean_names_valb = [re.sub(r'\\W+', '_', feature) for feature in Xb_val.columns]\n",
    "\n",
    "# Assigning the clean column names to the dataframes\n",
    "Xb_train.columns = clean_names_trainb\n",
    "Xb_val.columns = clean_names_valb\n",
    "\n",
    "# Applying oversampling and undersampling\n",
    "oversampler = SMOTE(sampling_strategy=0.25)  \n",
    "undersampler = RandomUnderSampler(sampling_strategy=0.75)  \n",
    "\n",
    "Xb_train_oversampled, yb_train_oversampled = oversampler.fit_resample(Xb_train, yb_train)\n",
    "Xb_train_resampled, yb_train_resampled = undersampler.fit_resample(Xb_train_oversampled, yb_train_oversampled)\n",
    "\n",
    "Xb_val_oversampled, yb_val_oversampled = oversampler.fit_resample(Xb_val, yb_val)\n",
    "Xb_val_resampled, yb_val_resampled = undersampler.fit_resample(Xb_val_oversampled, yb_val_oversampled)\n",
    "\n",
    "\n",
    "# Creating a LightGBM dataset\n",
    "trainb_data = lgb.Dataset(Xb_train_resampled, label=yb_train_resampled)\n",
    "valb_data = lgb.Dataset(Xb_val_resampled, label=yb_val_resampled)\n",
    "\n",
    "# Seting the parameters for the LightGBM model\n",
    "params = {\n",
    "    'objective': 'binary',\n",
    "    'metric': 'binary_logloss',\n",
    "    'boosting_type': 'gbdt',\n",
    "    'num_leaves': 50,\n",
    "    'learning_rate': 0.5,\n",
    "    'feature_fraction': 0.9,\n",
    "    'bagging_fraction': 0.8,\n",
    "    'bagging_freq': 5,\n",
    "    'verbose': 0\n",
    "}\n",
    "\n",
    "# Training the LightGBM model\n",
    "model_trainb = lgb.train(params, trainb_data, num_boost_round=100)\n",
    "model_valb = lgb.train(params, valb_data, num_boost_round=100)\n",
    "\n",
    "# Making predictions on the testing set\n",
    "yb_pred_train = model_trainb.predict(Xb_train_resampled)\n",
    "yb_pred_val = model_valb.predict(Xb_val_resampled)\n",
    "\n",
    "# Converting probabilities to binary predictions\n",
    "yb_pred_train_binary = [1 if p >= 0.5 else 0 for p in yb_pred_train]\n",
    "yb_pred_val_binary = [1 if p >= 0.5 else 0 for p in yb_pred_val]\n",
    "\n",
    "# Calculating accuracy and confusion matrix\n",
    "accuracy_trainb = accuracy_score(yb_train_resampled, yb_pred_train_binary)\n",
    "accuracy_valb = accuracy_score(yb_val_resampled, yb_pred_val_binary)\n",
    "print(\"Accuracy of Training Model:\", accuracy_trainb)\n",
    "print(\"Accuracy of Validation Model:\", accuracy_valb)\n",
    "print('')\n",
    "print('Training & Validation Confusion Metrices:')\n",
    "print('Training   confusion matrix:\\n', confusion_matrix(yb_train_resampled, yb_pred_train_binary))\n",
    "print('Validation confusion matrix:\\n', confusion_matrix(yb_val_resampled, yb_pred_val_binary))"
   ]
  },
  {
   "cell_type": "markdown",
   "id": "ba771dfa",
   "metadata": {},
   "source": [
    "## 5.5 LGB Results"
   ]
  },
  {
   "cell_type": "code",
   "execution_count": 415,
   "id": "35feb923",
   "metadata": {},
   "outputs": [
    {
     "name": "stdout",
     "output_type": "stream",
     "text": [
      "       SK_ID_CURR    TARGET\n",
      "0          100001  0.119634\n",
      "1          100005  0.962380\n",
      "2          100013  0.573833\n",
      "3          100028  0.086589\n",
      "4          100038  0.867201\n",
      "...           ...       ...\n",
      "48739      456221  0.063266\n",
      "48740      456222  0.373507\n",
      "48741      456223  0.035951\n",
      "48742      456224  0.543214\n",
      "48743      456250  0.101831\n",
      "\n",
      "[48744 rows x 2 columns]\n"
     ]
    }
   ],
   "source": [
    "# predicting model on the app_test_cleaned dataframe\n",
    "\n",
    "categorical_columns_test = app_test_cleaned.select_dtypes(include=['object']).columns\n",
    "app_test_cleaned_encoded = pd.get_dummies(app_test_cleaned, columns=categorical_columns_test)\n",
    "\n",
    "results = pd.DataFrame({'SK_ID_CURR': app_test_cleaned_encoded.index, 'TARGET': model_train.predict(app_test_cleaned_encoded,  predict_disable_shape_check=True)})\n",
    "print(results) # Score = 0.65"
   ]
  },
  {
   "cell_type": "markdown",
   "id": "b5f3713d",
   "metadata": {},
   "source": [
    "The LGB model with the best results is the LGB with 50 leaves and learning rate of 0.5 using the app_train_cleaned dataframe with sampling. Its accuracy using the training set was 99.8% and 100% on the validation set.\n",
    "The kaggle score for this best model is 0.65."
   ]
  },
  {
   "cell_type": "markdown",
   "id": "c24bc622",
   "metadata": {},
   "source": [
    "# 6. Gradient Boosting Model"
   ]
  },
  {
   "cell_type": "markdown",
   "id": "933de06f",
   "metadata": {},
   "source": [
    "## 6.1 Gradient Boosting Model on Cleaned App_train Dataframe"
   ]
  },
  {
   "cell_type": "code",
   "execution_count": 401,
   "id": "96273091",
   "metadata": {},
   "outputs": [
    {
     "name": "stdout",
     "output_type": "stream",
     "text": [
      "Accuracy of Training Model: 0.8679858265397178\n",
      "Accuracy of Validation Model: 0.8791970729143505\n",
      "\n",
      "Training & Validation Confusion Metrices:\n",
      "Training   confusion matrix:\n",
      " [[63668  2290]\n",
      " [12948 36521]]\n",
      "Validation confusion matrix:\n",
      " [[27364   904]\n",
      " [ 5072 16129]]\n"
     ]
    }
   ],
   "source": [
    "from sklearn.ensemble import GradientBoostingClassifier\n",
    "from sklearn.metrics import accuracy_score\n",
    "\n",
    "missing_columns = ['NAME_INCOME_TYPE_Maternity_leave', 'NAME_FAMILY_STATUS_Unknown']\n",
    "\n",
    "X_train_resampled2 = X_train_resampled.drop(missing_columns, axis=1)\n",
    "X_val_resampled2 = X_val_resampled.drop(missing_columns, axis=1)\n",
    "\n",
    "# Training a model on the training and validation set\n",
    "GB_train_model = GradientBoostingClassifier(n_estimators=200, learning_rate=0.5, max_depth=3, random_state=42)\n",
    "GB_train_model.fit(X_train_resampled2, y_train_resampled)\n",
    "\n",
    "GB_val_model = GradientBoostingClassifier(n_estimators=200, learning_rate=0.5, max_depth=3, random_state=42)\n",
    "GB_val_model.fit(X_val_resampled2, y_val_resampled)\n",
    "\n",
    "# Making predictions \n",
    "GB_train_pred = GB_train_model.predict(X_train_resampled2)\n",
    "GB_val_pred = GB_val_model.predict(X_val_resampled2)\n",
    "\n",
    "# Calculating accuracy and confusion matrix\n",
    "train_accuracy = accuracy_score(y_train_resampled, GB_train_pred)\n",
    "val_accuracy = accuracy_score(y_val_resampled, GB_val_pred)\n",
    "print(\"Accuracy of Training Model:\", train_accuracy)\n",
    "print(\"Accuracy of Validation Model:\", val_accuracy)\n",
    "print('')\n",
    "print('Training & Validation Confusion Metrices:')\n",
    "print('Training   confusion matrix:\\n', confusion_matrix(y_train_resampled, GB_train_pred))\n",
    "print('Validation confusion matrix:\\n', confusion_matrix(y_val_resampled, GB_val_pred))"
   ]
  },
  {
   "cell_type": "markdown",
   "id": "705f46a4",
   "metadata": {},
   "source": [
    "## 6.2 Gradient Boosting Results"
   ]
  },
  {
   "cell_type": "code",
   "execution_count": 404,
   "id": "aee27276",
   "metadata": {},
   "outputs": [
    {
     "name": "stderr",
     "output_type": "stream",
     "text": [
      "C:\\Users\\jital\\anaconda3\\lib\\site-packages\\sklearn\\base.py:493: FutureWarning: The feature names should match those that were passed during fit. Starting version 1.2, an error will be raised.\n",
      "Feature names unseen at fit time:\n",
      "- NAME_CONTRACT_TYPE_Cash loans\n",
      "- NAME_CONTRACT_TYPE_Revolving loans\n",
      "- NAME_EDUCATION_TYPE_Academic degree\n",
      "- NAME_EDUCATION_TYPE_Higher education\n",
      "- NAME_EDUCATION_TYPE_Incomplete higher\n",
      "- ...\n",
      "Feature names seen at fit time, yet now missing:\n",
      "- NAME_CONTRACT_TYPE_Cash_loans\n",
      "- NAME_CONTRACT_TYPE_Revolving_loans\n",
      "- NAME_EDUCATION_TYPE_Academic_degree\n",
      "- NAME_EDUCATION_TYPE_Higher_education\n",
      "- NAME_EDUCATION_TYPE_Incomplete_higher\n",
      "- ...\n",
      "\n",
      "  warnings.warn(message, FutureWarning)\n"
     ]
    },
    {
     "name": "stdout",
     "output_type": "stream",
     "text": [
      "       SK_ID_CURR  TARGET\n",
      "0          100001       0\n",
      "1          100005       0\n",
      "2          100013       0\n",
      "3          100028       0\n",
      "4          100038       0\n",
      "...           ...     ...\n",
      "48739      456221       0\n",
      "48740      456222       0\n",
      "48741      456223       0\n",
      "48742      456224       0\n",
      "48743      456250       0\n",
      "\n",
      "[48744 rows x 2 columns]\n"
     ]
    }
   ],
   "source": [
    "# predicting model on the app_test_cleaned dataframe\n",
    "\n",
    "categorical_columns_test = app_test_cleaned.select_dtypes(include=['object']).columns\n",
    "app_test_cleaned_encoded = pd.get_dummies(app_test_cleaned, columns=categorical_columns_test)\n",
    "\n",
    "results = pd.DataFrame({'SK_ID_CURR': app_test_cleaned_encoded.index, 'TARGET': GB_train_model.predict(app_test_cleaned_encoded)})\n",
    "print(results) "
   ]
  },
  {
   "cell_type": "markdown",
   "id": "2032e828",
   "metadata": {},
   "source": [
    "The kaggle score for this model was a 0.55, meaning its not as good as the LGB model."
   ]
  },
  {
   "cell_type": "markdown",
   "id": "698b2d56",
   "metadata": {},
   "source": [
    "# 7. Final Results"
   ]
  },
  {
   "cell_type": "code",
   "execution_count": 416,
   "id": "2863013e",
   "metadata": {},
   "outputs": [],
   "source": [
    "results.to_csv(\"Submission.csv\", index=False)"
   ]
  },
  {
   "cell_type": "markdown",
   "id": "d4902a7d",
   "metadata": {},
   "source": [
    "In the end the best model was the light gradient boosting one using the upsampled then downsampled data. Its accuracy using the training set was 99.8% and 100% on the validation set.\n",
    "The kaggle score for this best model is 0.65."
   ]
  }
 ],
 "metadata": {
  "kernelspec": {
   "display_name": "Python 3 (ipykernel)",
   "language": "python",
   "name": "python3"
  },
  "language_info": {
   "codemirror_mode": {
    "name": "ipython",
    "version": 3
   },
   "file_extension": ".py",
   "mimetype": "text/x-python",
   "name": "python",
   "nbconvert_exporter": "python",
   "pygments_lexer": "ipython3",
   "version": "3.9.13"
  }
 },
 "nbformat": 4,
 "nbformat_minor": 5
}
